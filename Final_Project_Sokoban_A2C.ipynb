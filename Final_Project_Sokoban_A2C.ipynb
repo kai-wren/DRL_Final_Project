{
  "nbformat": 4,
  "nbformat_minor": 0,
  "metadata": {
    "colab": {
      "name": "Final Project_Sokoban_A2C.ipynb",
      "provenance": [],
      "collapsed_sections": [],
      "machine_shape": "hm"
    },
    "kernelspec": {
      "name": "python3",
      "display_name": "Python 3"
    },
    "accelerator": "GPU"
  },
  "cells": [
    {
      "cell_type": "markdown",
      "metadata": {
        "id": "zvi865JcoV12"
      },
      "source": [
        "# Pre-requisites\r\n",
        "\r\n",
        "Installing Gym Sokoban environment as Linux package."
      ]
    },
    {
      "cell_type": "code",
      "metadata": {
        "colab": {
          "base_uri": "https://localhost:8080/"
        },
        "id": "VQORQ1oScbH-",
        "outputId": "1e0af4a8-1bed-42b0-ad29-04d5c41f3dbf"
      },
      "source": [
        "!pip install gym-sokoban"
      ],
      "execution_count": 2,
      "outputs": [
        {
          "output_type": "stream",
          "text": [
            "Collecting gym-sokoban\n",
            "  Downloading https://files.pythonhosted.org/packages/4c/7f/e58f969b87f4fedb688e7abac0e369c3b55c4b6886015b2d5337b70be9f5/gym_sokoban-0.0.6-py3-none-any.whl\n",
            "Requirement already satisfied: requests>=2.22.0 in /usr/local/lib/python3.6/dist-packages (from gym-sokoban) (2.23.0)\n",
            "Requirement already satisfied: gym>=0.2.3 in /usr/local/lib/python3.6/dist-packages (from gym-sokoban) (0.17.3)\n",
            "Requirement already satisfied: tqdm>=4.32.1 in /usr/local/lib/python3.6/dist-packages (from gym-sokoban) (4.41.1)\n",
            "Requirement already satisfied: imageio>=2.3.0 in /usr/local/lib/python3.6/dist-packages (from gym-sokoban) (2.4.1)\n",
            "Requirement already satisfied: numpy>=1.14.1 in /usr/local/lib/python3.6/dist-packages (from gym-sokoban) (1.19.5)\n",
            "Requirement already satisfied: chardet<4,>=3.0.2 in /usr/local/lib/python3.6/dist-packages (from requests>=2.22.0->gym-sokoban) (3.0.4)\n",
            "Requirement already satisfied: idna<3,>=2.5 in /usr/local/lib/python3.6/dist-packages (from requests>=2.22.0->gym-sokoban) (2.10)\n",
            "Requirement already satisfied: urllib3!=1.25.0,!=1.25.1,<1.26,>=1.21.1 in /usr/local/lib/python3.6/dist-packages (from requests>=2.22.0->gym-sokoban) (1.24.3)\n",
            "Requirement already satisfied: certifi>=2017.4.17 in /usr/local/lib/python3.6/dist-packages (from requests>=2.22.0->gym-sokoban) (2020.12.5)\n",
            "Requirement already satisfied: scipy in /usr/local/lib/python3.6/dist-packages (from gym>=0.2.3->gym-sokoban) (1.4.1)\n",
            "Requirement already satisfied: pyglet<=1.5.0,>=1.4.0 in /usr/local/lib/python3.6/dist-packages (from gym>=0.2.3->gym-sokoban) (1.5.0)\n",
            "Requirement already satisfied: cloudpickle<1.7.0,>=1.2.0 in /usr/local/lib/python3.6/dist-packages (from gym>=0.2.3->gym-sokoban) (1.3.0)\n",
            "Requirement already satisfied: pillow in /usr/local/lib/python3.6/dist-packages (from imageio>=2.3.0->gym-sokoban) (7.0.0)\n",
            "Requirement already satisfied: future in /usr/local/lib/python3.6/dist-packages (from pyglet<=1.5.0,>=1.4.0->gym>=0.2.3->gym-sokoban) (0.16.0)\n",
            "Installing collected packages: gym-sokoban\n",
            "Successfully installed gym-sokoban-0.0.6\n"
          ],
          "name": "stdout"
        }
      ]
    },
    {
      "cell_type": "markdown",
      "metadata": {
        "id": "fbMMMXbFoa2Q"
      },
      "source": [
        "Instaling required modules in Google Colab as Linux packages."
      ]
    },
    {
      "cell_type": "code",
      "metadata": {
        "colab": {
          "base_uri": "https://localhost:8080/"
        },
        "id": "gny5PEtU3G8G",
        "outputId": "94cb5426-9875-4be5-8703-6bd5ed43c0e1"
      },
      "source": [
        "!apt-get install -y xvfb python-opengl x11-utils\r\n",
        "\r\n",
        "!pip install pyvirtualdisplay PyOpenGL PyOpenGL-accelerate kora"
      ],
      "execution_count": 3,
      "outputs": [
        {
          "output_type": "stream",
          "text": [
            "Reading package lists... Done\n",
            "Building dependency tree       \n",
            "Reading state information... Done\n",
            "The following additional packages will be installed:\n",
            "  libxxf86dga1\n",
            "Suggested packages:\n",
            "  libgle3 mesa-utils\n",
            "The following NEW packages will be installed:\n",
            "  libxxf86dga1 python-opengl x11-utils xvfb\n",
            "0 upgraded, 4 newly installed, 0 to remove and 15 not upgraded.\n",
            "Need to get 1,490 kB of archives.\n",
            "After this operation, 8,397 kB of additional disk space will be used.\n",
            "Get:1 http://archive.ubuntu.com/ubuntu bionic/main amd64 libxxf86dga1 amd64 2:1.1.4-1 [13.7 kB]\n",
            "Get:2 http://archive.ubuntu.com/ubuntu bionic/universe amd64 python-opengl all 3.1.0+dfsg-1 [496 kB]\n",
            "Get:3 http://archive.ubuntu.com/ubuntu bionic/main amd64 x11-utils amd64 7.7+3build1 [196 kB]\n",
            "Get:4 http://archive.ubuntu.com/ubuntu bionic-updates/universe amd64 xvfb amd64 2:1.19.6-1ubuntu4.8 [784 kB]\n",
            "Fetched 1,490 kB in 0s (6,158 kB/s)\n",
            "Selecting previously unselected package libxxf86dga1:amd64.\n",
            "(Reading database ... 146456 files and directories currently installed.)\n",
            "Preparing to unpack .../libxxf86dga1_2%3a1.1.4-1_amd64.deb ...\n",
            "Unpacking libxxf86dga1:amd64 (2:1.1.4-1) ...\n",
            "Selecting previously unselected package python-opengl.\n",
            "Preparing to unpack .../python-opengl_3.1.0+dfsg-1_all.deb ...\n",
            "Unpacking python-opengl (3.1.0+dfsg-1) ...\n",
            "Selecting previously unselected package x11-utils.\n",
            "Preparing to unpack .../x11-utils_7.7+3build1_amd64.deb ...\n",
            "Unpacking x11-utils (7.7+3build1) ...\n",
            "Selecting previously unselected package xvfb.\n",
            "Preparing to unpack .../xvfb_2%3a1.19.6-1ubuntu4.8_amd64.deb ...\n",
            "Unpacking xvfb (2:1.19.6-1ubuntu4.8) ...\n",
            "Setting up python-opengl (3.1.0+dfsg-1) ...\n",
            "Setting up xvfb (2:1.19.6-1ubuntu4.8) ...\n",
            "Setting up libxxf86dga1:amd64 (2:1.1.4-1) ...\n",
            "Setting up x11-utils (7.7+3build1) ...\n",
            "Processing triggers for man-db (2.8.3-2ubuntu0.1) ...\n",
            "Processing triggers for libc-bin (2.27-3ubuntu1.3) ...\n",
            "/sbin/ldconfig.real: /usr/local/lib/python3.6/dist-packages/ideep4py/lib/libmkldnn.so.0 is not a symbolic link\n",
            "\n",
            "Collecting pyvirtualdisplay\n",
            "  Downloading https://files.pythonhosted.org/packages/ad/05/6568620fed440941b704664b9cfe5f836ad699ac7694745e7787fbdc8063/PyVirtualDisplay-2.0-py2.py3-none-any.whl\n",
            "Requirement already satisfied: PyOpenGL in /usr/local/lib/python3.6/dist-packages (3.1.5)\n",
            "Collecting PyOpenGL-accelerate\n",
            "\u001b[?25l  Downloading https://files.pythonhosted.org/packages/a2/3c/f42a62b7784c04b20f8b88d6c8ad04f4f20b0767b721102418aad94d8389/PyOpenGL-accelerate-3.1.5.tar.gz (538kB)\n",
            "\u001b[K     |████████████████████████████████| 542kB 15.5MB/s \n",
            "\u001b[?25hCollecting kora\n",
            "\u001b[?25l  Downloading https://files.pythonhosted.org/packages/5b/0d/3d9ab9ee747f0925b038e8350ce137276a7a4730a96a3516485dc1b87ba3/kora-0.9.19-py3-none-any.whl (57kB)\n",
            "\u001b[K     |████████████████████████████████| 61kB 8.5MB/s \n",
            "\u001b[?25hCollecting EasyProcess\n",
            "  Downloading https://files.pythonhosted.org/packages/48/3c/75573613641c90c6d094059ac28adb748560d99bd27ee6f80cce398f404e/EasyProcess-0.3-py2.py3-none-any.whl\n",
            "Requirement already satisfied: ipython in /usr/local/lib/python3.6/dist-packages (from kora) (5.5.0)\n",
            "Collecting fastcore\n",
            "\u001b[?25l  Downloading https://files.pythonhosted.org/packages/0c/98/60404e2817cff113a6ae4023bc1772e23179408fdf7857fa410551758dfe/fastcore-1.3.19-py3-none-any.whl (53kB)\n",
            "\u001b[K     |████████████████████████████████| 61kB 9.1MB/s \n",
            "\u001b[?25hRequirement already satisfied: pygments in /usr/local/lib/python3.6/dist-packages (from ipython->kora) (2.6.1)\n",
            "Requirement already satisfied: pickleshare in /usr/local/lib/python3.6/dist-packages (from ipython->kora) (0.7.5)\n",
            "Requirement already satisfied: pexpect; sys_platform != \"win32\" in /usr/local/lib/python3.6/dist-packages (from ipython->kora) (4.8.0)\n",
            "Requirement already satisfied: setuptools>=18.5 in /usr/local/lib/python3.6/dist-packages (from ipython->kora) (53.0.0)\n",
            "Requirement already satisfied: prompt-toolkit<2.0.0,>=1.0.4 in /usr/local/lib/python3.6/dist-packages (from ipython->kora) (1.0.18)\n",
            "Requirement already satisfied: simplegeneric>0.8 in /usr/local/lib/python3.6/dist-packages (from ipython->kora) (0.8.1)\n",
            "Requirement already satisfied: traitlets>=4.2 in /usr/local/lib/python3.6/dist-packages (from ipython->kora) (4.3.3)\n",
            "Requirement already satisfied: decorator in /usr/local/lib/python3.6/dist-packages (from ipython->kora) (4.4.2)\n",
            "Requirement already satisfied: pip in /usr/local/lib/python3.6/dist-packages (from fastcore->kora) (19.3.1)\n",
            "Requirement already satisfied: packaging in /usr/local/lib/python3.6/dist-packages (from fastcore->kora) (20.8)\n",
            "Requirement already satisfied: ptyprocess>=0.5 in /usr/local/lib/python3.6/dist-packages (from pexpect; sys_platform != \"win32\"->ipython->kora) (0.7.0)\n",
            "Requirement already satisfied: six>=1.9.0 in /usr/local/lib/python3.6/dist-packages (from prompt-toolkit<2.0.0,>=1.0.4->ipython->kora) (1.15.0)\n",
            "Requirement already satisfied: wcwidth in /usr/local/lib/python3.6/dist-packages (from prompt-toolkit<2.0.0,>=1.0.4->ipython->kora) (0.2.5)\n",
            "Requirement already satisfied: ipython-genutils in /usr/local/lib/python3.6/dist-packages (from traitlets>=4.2->ipython->kora) (0.2.0)\n",
            "Requirement already satisfied: pyparsing>=2.0.2 in /usr/local/lib/python3.6/dist-packages (from packaging->fastcore->kora) (2.4.7)\n",
            "Building wheels for collected packages: PyOpenGL-accelerate\n",
            "  Building wheel for PyOpenGL-accelerate (setup.py) ... \u001b[?25l\u001b[?25hdone\n",
            "  Created wheel for PyOpenGL-accelerate: filename=PyOpenGL_accelerate-3.1.5-cp36-cp36m-linux_x86_64.whl size=1593630 sha256=f39a31882b41a53d4465e5e164111818c2a9d48482c73b0936aee931746ee4b4\n",
            "  Stored in directory: /root/.cache/pip/wheels/bd/21/77/99670ceca25fddb3c2b60a7ae44644b8253d1006e8ec417bcc\n",
            "Successfully built PyOpenGL-accelerate\n",
            "Installing collected packages: EasyProcess, pyvirtualdisplay, PyOpenGL-accelerate, fastcore, kora\n",
            "Successfully installed EasyProcess-0.3 PyOpenGL-accelerate-3.1.5 fastcore-1.3.19 kora-0.9.19 pyvirtualdisplay-2.0\n"
          ],
          "name": "stdout"
        }
      ]
    },
    {
      "cell_type": "markdown",
      "metadata": {
        "id": "d4tO4QutoraY"
      },
      "source": [
        "Importing basic set of libraries."
      ]
    },
    {
      "cell_type": "code",
      "metadata": {
        "id": "FLSjkLiRwNZH"
      },
      "source": [
        "import gym\r\n",
        "import numpy as np\r\n",
        "import matplotlib.pyplot as plt\r\n",
        "import pyvirtualdisplay\r\n",
        "\r\n",
        "import gym_sokoban"
      ],
      "execution_count": 4,
      "outputs": []
    },
    {
      "cell_type": "markdown",
      "metadata": {
        "id": "0u42YEr0otz4"
      },
      "source": [
        "Import seaborn to make charts better."
      ]
    },
    {
      "cell_type": "code",
      "metadata": {
        "id": "tARnLNNnzRam"
      },
      "source": [
        "import seaborn as sns\r\n",
        "\r\n",
        "sns.set()"
      ],
      "execution_count": 5,
      "outputs": []
    },
    {
      "cell_type": "markdown",
      "metadata": {
        "id": "FlaxyRxv9D61"
      },
      "source": [
        "# Reusable assets"
      ]
    },
    {
      "cell_type": "markdown",
      "metadata": {
        "id": "Ratd04aAo469"
      },
      "source": [
        "Defining an abstract class for A2C agent and concrete implementation of it. Also defining a class to store expirience for A2C updates."
      ]
    },
    {
      "cell_type": "code",
      "metadata": {
        "id": "dgmThVEmxX_E"
      },
      "source": [
        "import numpy as np\r\n",
        "import torch\r\n",
        "import torch.nn as nn\r\n",
        "import torch.optim as optim\r\n",
        "import torch.nn.functional as F\r\n",
        "\r\n",
        "class OnPolicy(nn.Module):\r\n",
        "    def __init__(self):\r\n",
        "        super(OnPolicy, self).__init__()\r\n",
        "        \r\n",
        "    def forward(self, x):\r\n",
        "        raise NotImplementedError\r\n",
        "        \r\n",
        "    def act(self, x, deterministic=False):       \r\n",
        "        logit, value = self.forward(x)                       \r\n",
        "        probs = F.softmax(logit, dim=1)       \r\n",
        "        \r\n",
        "        if deterministic:\r\n",
        "            action = probs.max(1)[1]\r\n",
        "        else:\r\n",
        "            action = probs.multinomial(num_samples=1)\r\n",
        "        \r\n",
        "        return action\r\n",
        "    \r\n",
        "    def evaluate_actions(self, x, action):\r\n",
        "        logit, value = self.forward(x)\r\n",
        "        \r\n",
        "        probs     = F.softmax(logit, dim=1)\r\n",
        "        log_probs = F.log_softmax(logit, dim=1)\r\n",
        "        \r\n",
        "        action_log_probs = log_probs.gather(1, action)       \r\n",
        "\r\n",
        "        entropy = -(probs * log_probs).sum(1).mean()\r\n",
        "        \r\n",
        "        return logit, action_log_probs, value, entropy\r\n",
        "    \r\n",
        "\r\n",
        "class ActorCritic(OnPolicy):\r\n",
        "    def __init__(self, in_shape, num_actions):\r\n",
        "        super(ActorCritic, self).__init__()\r\n",
        "        \r\n",
        "        self.in_shape = in_shape\r\n",
        "        self.in_channels = in_shape[0]\r\n",
        "        self.out_channels = 16\r\n",
        "\r\n",
        "        self.features = nn.Sequential(\r\n",
        "            nn.Conv2d(self.in_channels, 32, kernel_size=8, stride=4),\r\n",
        "            nn.ReLU(),\r\n",
        "            nn.Conv2d(32, 64, kernel_size=4, stride=2),\r\n",
        "            nn.ReLU(),\r\n",
        "            nn.Conv2d(64, 64, kernel_size=3, stride=1),\r\n",
        "            nn.ReLU(),\r\n",
        "            # nn.AvgPool2d(2, stride=2),\r\n",
        "            # nn.Conv2d(self.in_channels, self.out_channels, kernel_size=3, stride=1),\r\n",
        "            # nn.ReLU(),\r\n",
        "            # nn.Conv2d(self.out_channels, self.out_channels, kernel_size=3, stride=2),\r\n",
        "            # nn.ReLU(),\r\n",
        "        )\r\n",
        "        \r\n",
        "        fc_size = 512\r\n",
        "        self.fc = nn.Sequential(\r\n",
        "            nn.Linear(self.feature_size(), fc_size),\r\n",
        "            nn.ReLU(),\r\n",
        "        )\r\n",
        "                \r\n",
        "        self.critic  = nn.Linear(fc_size, 1)\r\n",
        "        self.actor   = nn.Linear(fc_size, num_actions)\r\n",
        "        \r\n",
        "    def forward(self, x):          \r\n",
        "        x = self.features(x)\r\n",
        "        # x = x.view(x.size(0),-1)\r\n",
        "        x = x.reshape(x.size(0), -1)\r\n",
        "        x = self.fc(x)\r\n",
        "        logit = self.actor(x)\r\n",
        "        value = self.critic(x)\r\n",
        "        return logit, value\r\n",
        "\r\n",
        "    def feature_size(self):  \r\n",
        "        # convoutput1 = self.calculate_conv_output((int(self.in_shape[1]/2), int(self.in_shape[2]/2)), self.out_channels, 3)\r\n",
        "        convoutput1 = self.calculate_conv_output(self.in_shape[1:3], 32, 8, 4)       \r\n",
        "        convoutput2 = self.calculate_conv_output(convoutput1[1:3], 64, 4, 2)\r\n",
        "        convoutput3 = self.calculate_conv_output(convoutput2[1:3], 64, 3, 1)\r\n",
        "        features = int(np.prod(convoutput3))\r\n",
        "        return features\r\n",
        "\r\n",
        "    def calculate_conv_output(self, img_dim, out_channels, kernel_size, stride=1, padding=0):   \r\n",
        "        # print(img_dim, out_channels, kernel_size)     \r\n",
        "        output_width = (img_dim[0] - kernel_size + 2*padding) // stride + 1\r\n",
        "        output_height = (img_dim[1] - kernel_size + 2*padding) // stride + 1\r\n",
        "        # print(out_channels, output_width, output_height)\r\n",
        "        return [out_channels, output_width, output_height]\r\n",
        "\r\n",
        "    \r\n",
        "class RolloutStorage(object):\r\n",
        "    def __init__(self, num_steps, num_envs, state_shape):\r\n",
        "        self.num_steps = num_steps\r\n",
        "        self.num_envs  = num_envs\r\n",
        "        self.states  = torch.zeros(num_steps + 1, num_envs, *state_shape)\r\n",
        "        self.rewards = torch.zeros(num_steps,     num_envs, 1)\r\n",
        "        self.masks   = torch.ones(num_steps  + 1, num_envs, 1)\r\n",
        "        self.actions = torch.zeros(num_steps,     num_envs, 1).long()\r\n",
        "        self.use_cuda = False\r\n",
        "            \r\n",
        "    def cuda(self):\r\n",
        "        self.use_cuda  = True\r\n",
        "        self.states    = self.states.cuda()\r\n",
        "        self.rewards   = self.rewards.cuda()\r\n",
        "        self.masks     = self.masks.cuda()\r\n",
        "        self.actions   = self.actions.cuda()\r\n",
        "        \r\n",
        "    def insert(self, step, state, action, reward, mask):\r\n",
        "        self.states[step + 1].copy_(state)\r\n",
        "        self.actions[step].copy_(action)\r\n",
        "        self.rewards[step].copy_(reward)\r\n",
        "        self.masks[step + 1].copy_(mask)\r\n",
        "        \r\n",
        "    def after_update(self):\r\n",
        "        self.states[0].copy_(self.states[-1])\r\n",
        "        self.masks[0].copy_(self.masks[-1])\r\n",
        "        \r\n",
        "    def compute_returns(self, next_value, gamma):\r\n",
        "        returns   = torch.zeros(self.num_steps + 1, self.num_envs, 1)\r\n",
        "        if self.use_cuda:\r\n",
        "            returns = returns.cuda()\r\n",
        "        returns[-1] = next_value\r\n",
        "        for step in reversed(range(self.num_steps)):\r\n",
        "            returns[step] = returns[step + 1] * gamma * self.masks[step + 1] + self.rewards[step]\r\n",
        "        return returns[:-1]"
      ],
      "execution_count": 12,
      "outputs": []
    },
    {
      "cell_type": "markdown",
      "metadata": {
        "id": "56Qiz50epKFA"
      },
      "source": [
        "Defining class for logger to store training statistics."
      ]
    },
    {
      "cell_type": "code",
      "metadata": {
        "id": "jr4piAbjx7Et"
      },
      "source": [
        "import io\r\n",
        "import pickle\r\n",
        "import os\r\n",
        "import torch\r\n",
        "\r\n",
        "class Logger():\r\n",
        "    \r\n",
        "    def log(self, data, directoryPath=\"\", filename=\"dummy\"):\r\n",
        "        if not os.path.exists(directoryPath):\r\n",
        "            os.makedirs(directoryPath)\r\n",
        "        \r\n",
        "        if not directoryPath.endswith(\"/\"):\r\n",
        "            directoryPath += \"/\"\r\n",
        "        directoryPath += filename\r\n",
        "        self.dump(data=data, filename=directoryPath)\r\n",
        "        print(\"{0} saved\".format(filename))\r\n",
        "\r\n",
        "    def log_state_dict(self, state_dict, path, name=\"\"):\r\n",
        "        torch.save(state_dict, path)\r\n",
        "        print(\"Model {0} saved\".format(name))\r\n",
        "\r\n",
        "    def dump(self, data, filename):\r\n",
        "        with open(filename, \"wb\") as f:\r\n",
        "            pickle.dump(data, f)\r\n",
        "\r\n",
        "    def load(self, filename):\r\n",
        "        with open(filename, 'rb') as f:\r\n",
        "            data = pickle.load(f)\r\n",
        "        return data\r\n",
        "\r\n",
        "    def loadwithoutfirstelem(self, filename):\r\n",
        "        data = self.load(filename)\r\n",
        "        del data[0]\r\n",
        "        return data\r\n",
        "\r\n",
        "    def printDayFormat(self, message, seconds):\r\n",
        "        days, hours, minutes, seconds = self.convertSeconds(seconds)\r\n",
        "        print(message, '{0:02}:{1:02}:{2:02}:{3:02}'.format(int(days), int(hours), int(minutes), int(seconds)))\r\n",
        "\r\n",
        "    def convertSeconds(self, seconds):\r\n",
        "        days = seconds // 86400\r\n",
        "        seconds -= (days * 86400)\r\n",
        "        hours = seconds//3600\r\n",
        "        seconds -= hours * 3600\r\n",
        "        minutes = seconds//60\r\n",
        "        seconds -= minutes * 60\r\n",
        "        return days, hours, minutes, seconds"
      ],
      "execution_count": null,
      "outputs": []
    },
    {
      "cell_type": "markdown",
      "metadata": {
        "id": "_6aIdey4pcU_"
      },
      "source": [
        "Defining class for timer which will be used to estimate time required for training."
      ]
    },
    {
      "cell_type": "code",
      "metadata": {
        "id": "IzrayABjyBSU"
      },
      "source": [
        "import time\r\n",
        "\r\n",
        "class myTimer():\r\n",
        "\r\n",
        "    def __init__(self):\r\n",
        "        self.reset()\r\n",
        "    \r\n",
        "    def reset(self):\r\n",
        "        self.timediff = 0\r\n",
        "        self.total_time = 0\r\n",
        "        self.last_time = 0\r\n",
        "        self.online_mean = 0\r\n",
        "        self.online_count = 0\r\n",
        "\r\n",
        "    def update(self, current_time):\r\n",
        "        self.timediff = current_time - self.last_time\r\n",
        "        if self.last_time > 0:           \r\n",
        "            self.total_time += self.timediff\r\n",
        "            self.updateAvg()\r\n",
        "\r\n",
        "        self.last_time = current_time\r\n",
        "\r\n",
        "    def getTimeDiff(self):\r\n",
        "        return self.timediff\r\n",
        "\r\n",
        "    def getAvgTimeDiff(self):\r\n",
        "        return self.online_mean\r\n",
        "    \r\n",
        "    def updateAvg(self):\r\n",
        "        self.online_count += 1\r\n",
        "        self.online_mean += (self.timediff - self.online_mean) / self.online_count           \r\n",
        "\r\n",
        "    def getTotalTime(self):\r\n",
        "        return self.total_time\r\n",
        "\r\n",
        "    def getTimeToGo(self, loopsToGo):\r\n",
        "        return loopsToGo * self.online_mean"
      ],
      "execution_count": null,
      "outputs": []
    },
    {
      "cell_type": "markdown",
      "metadata": {
        "id": "OPkE9yY4pkbL"
      },
      "source": [
        "Defining a class which will be used to execute multiple environments in parallel."
      ]
    },
    {
      "cell_type": "code",
      "metadata": {
        "id": "04eVR3Fuyp-H"
      },
      "source": [
        "import numpy as np\r\n",
        "from multiprocessing import Process, Pipe\r\n",
        "\r\n",
        "def worker(remote, parent_remote, env_fn_wrapper):\r\n",
        "    parent_remote.close()\r\n",
        "    env = env_fn_wrapper.x()\r\n",
        "    while True:\r\n",
        "        cmd, data = remote.recv()\r\n",
        "        if cmd == 'step':\r\n",
        "            ob, reward, done, info = env.step(data)\r\n",
        "            if done:\r\n",
        "                ob = env.reset()\r\n",
        "            remote.send((ob, reward, done, info))\r\n",
        "        elif cmd == 'reset':\r\n",
        "            ob = env.reset()\r\n",
        "            remote.send(ob)\r\n",
        "        elif cmd == 'reset_task':\r\n",
        "            ob = env.reset_task()\r\n",
        "            remote.send(ob)\r\n",
        "        elif cmd == 'close':\r\n",
        "            remote.close()\r\n",
        "            break\r\n",
        "        elif cmd == 'get_spaces':\r\n",
        "            remote.send((env.observation_space, env.action_space))\r\n",
        "        else:\r\n",
        "            raise NotImplementedError\r\n",
        "\r\n",
        "class VecEnv(object):\r\n",
        "    \"\"\"\r\n",
        "    An abstract asynchronous, vectorized environment.\r\n",
        "    \"\"\"\r\n",
        "    def __init__(self, num_envs, observation_space, action_space):\r\n",
        "        self.num_envs = num_envs\r\n",
        "        self.observation_space = observation_space\r\n",
        "        self.action_space = action_space\r\n",
        "\r\n",
        "    def reset(self):\r\n",
        "        \"\"\"\r\n",
        "        Reset all the environments and return an array of\r\n",
        "        observations, or a tuple of observation arrays.\r\n",
        "        If step_async is still doing work, that work will\r\n",
        "        be cancelled and step_wait() should not be called\r\n",
        "        until step_async() is invoked again.\r\n",
        "        \"\"\"\r\n",
        "        pass\r\n",
        "\r\n",
        "    def step_async(self, actions):\r\n",
        "        \"\"\"\r\n",
        "        Tell all the environments to start taking a step\r\n",
        "        with the given actions.\r\n",
        "        Call step_wait() to get the results of the step.\r\n",
        "        You should not call this if a step_async run is\r\n",
        "        already pending.\r\n",
        "        \"\"\"\r\n",
        "        pass\r\n",
        "\r\n",
        "    def step_wait(self):\r\n",
        "        \"\"\"\r\n",
        "        Wait for the step taken with step_async().\r\n",
        "        Returns (obs, rews, dones, infos):\r\n",
        "         - obs: an array of observations, or a tuple of\r\n",
        "                arrays of observations.\r\n",
        "         - rews: an array of rewards\r\n",
        "         - dones: an array of \"episode done\" booleans\r\n",
        "         - infos: a sequence of info objects\r\n",
        "        \"\"\"\r\n",
        "        pass\r\n",
        "\r\n",
        "    def close(self):\r\n",
        "        \"\"\"\r\n",
        "        Clean up the environments' resources.\r\n",
        "        \"\"\"\r\n",
        "        pass\r\n",
        "\r\n",
        "    def step(self, actions):\r\n",
        "        self.step_async(actions)\r\n",
        "        return self.step_wait()\r\n",
        "\r\n",
        "    \r\n",
        "class CloudpickleWrapper(object):\r\n",
        "    \"\"\"\r\n",
        "    Uses cloudpickle to serialize contents (otherwise multiprocessing tries to use pickle)\r\n",
        "    \"\"\"\r\n",
        "    def __init__(self, x):\r\n",
        "        self.x = x\r\n",
        "    def __getstate__(self):\r\n",
        "        import cloudpickle\r\n",
        "        return cloudpickle.dumps(self.x)\r\n",
        "    def __setstate__(self, ob):\r\n",
        "        import pickle\r\n",
        "        self.x = pickle.loads(ob)\r\n",
        "\r\n",
        "class SubprocVecEnv(VecEnv):\r\n",
        "    def __init__(self, env_fns, spaces=None):\r\n",
        "        \"\"\"\r\n",
        "        envs: list of gym environments to run in subprocesses\r\n",
        "        \"\"\"\r\n",
        "        self.waiting = False\r\n",
        "        self.closed = False\r\n",
        "        nenvs = len(env_fns)\r\n",
        "        self.nenvs = nenvs\r\n",
        "        self.remotes, self.work_remotes = zip(*[Pipe() for _ in range(nenvs)])\r\n",
        "        self.ps = [Process(target=worker, args=(work_remote, remote, CloudpickleWrapper(env_fn)))\r\n",
        "            for (work_remote, remote, env_fn) in zip(self.work_remotes, self.remotes, env_fns)]\r\n",
        "        for p in self.ps:\r\n",
        "            p.daemon = True # if the main process crashes, we should not cause things to hang\r\n",
        "            p.start()\r\n",
        "        for remote in self.work_remotes:\r\n",
        "            remote.close()\r\n",
        "\r\n",
        "        self.remotes[0].send(('get_spaces', None))\r\n",
        "        observation_space, action_space = self.remotes[0].recv()\r\n",
        "        VecEnv.__init__(self, len(env_fns), observation_space, action_space)\r\n",
        "\r\n",
        "    def step_async(self, actions):\r\n",
        "        for remote, action in zip(self.remotes, actions):\r\n",
        "            remote.send(('step', action))\r\n",
        "        self.waiting = True\r\n",
        "\r\n",
        "    def step_wait(self):\r\n",
        "        results = [remote.recv() for remote in self.remotes]\r\n",
        "        self.waiting = False\r\n",
        "        obs, rews, dones, infos = zip(*results)\r\n",
        "        return np.stack(obs), np.stack(rews), np.stack(dones), infos\r\n",
        "\r\n",
        "    def reset(self):\r\n",
        "        for remote in self.remotes:\r\n",
        "            remote.send(('reset', None))\r\n",
        "        return np.stack([remote.recv() for remote in self.remotes])\r\n",
        "\r\n",
        "    def reset_task(self):\r\n",
        "        for remote in self.remotes:\r\n",
        "            remote.send(('reset_task', None))\r\n",
        "        return np.stack([remote.recv() for remote in self.remotes])\r\n",
        "\r\n",
        "    def close(self):\r\n",
        "        if self.closed:\r\n",
        "            return\r\n",
        "        if self.waiting:\r\n",
        "            for remote in self.remotes:            \r\n",
        "                remote.recv()\r\n",
        "        for remote in self.remotes:\r\n",
        "            remote.send(('close', None))\r\n",
        "        for p in self.ps:\r\n",
        "            p.join()\r\n",
        "            self.closed = True\r\n",
        "            \r\n",
        "    def __len__(self):\r\n",
        "        return self.nenvs"
      ],
      "execution_count": null,
      "outputs": []
    },
    {
      "cell_type": "markdown",
      "metadata": {
        "id": "mkr_SYmD9KDS"
      },
      "source": [
        "# Model training"
      ]
    },
    {
      "cell_type": "markdown",
      "metadata": {
        "id": "1h0e1zwhpz_o"
      },
      "source": [
        "Creating environments for training, setting hyperparameters, creating agent, respective optimizer and execute training itself for 10000 training steps. Unfortunately longer execution is complicated on conventional hardware (including ColabPro GPU). During execution print average reward and loss per 100 epochs."
      ]
    },
    {
      "cell_type": "code",
      "metadata": {
        "colab": {
          "base_uri": "https://localhost:8080/"
        },
        "id": "MpjhCwgyxX8d",
        "outputId": "444e1515-8cdb-4804-cd3b-7151e9fc20df"
      },
      "source": [
        "import numpy as np\r\n",
        "import time\r\n",
        "\r\n",
        "import torch\r\n",
        "import torch.nn as nn\r\n",
        "import torch.optim as optim\r\n",
        "\r\n",
        "\r\n",
        "logger = Logger()\r\n",
        "timer = myTimer()\r\n",
        "\r\n",
        "USE_CUDA = torch.cuda.is_available()\r\n",
        "\r\n",
        "num_envs = 16\r\n",
        "\r\n",
        "def make_env():   \r\n",
        "    def _thunk():\r\n",
        "        env = gym.make('Sokoban-v0')       \r\n",
        "        return env\r\n",
        "    return _thunk\r\n",
        "\r\n",
        "if __name__ == '__main__': \r\n",
        "    envs = [make_env() for i in range(num_envs)]\r\n",
        "    envs = SubprocVecEnv(envs)    \r\n",
        "\r\n",
        "    state_shape = envs.observation_space.shape\r\n",
        "    state_shape = (state_shape[2], state_shape[0], state_shape[1])\r\n",
        "    num_actions = envs.action_space.n\r\n",
        "        \r\n",
        "    #a2c hyperparams:\r\n",
        "    gamma = 0.99\r\n",
        "    entropy_coef = 0.01\r\n",
        "    value_loss_coef = 0.5\r\n",
        "    max_grad_norm = 0.5\r\n",
        "    num_steps = 5\r\n",
        "    num_frames = int(1e4)#int(1e6)\r\n",
        "\r\n",
        "    #rmsprop hyperparams:\r\n",
        "    lr    = 7e-4\r\n",
        "    eps   = 1e-5\r\n",
        "    alpha = 0.99\r\n",
        "\r\n",
        "    #Init a2c and rmsprop\r\n",
        "    actor_critic = ActorCritic(state_shape, num_actions)\r\n",
        "    optimizer = optim.RMSprop(actor_critic.parameters(), lr, eps=eps, alpha=alpha)\r\n",
        "    \r\n",
        "    if USE_CUDA:\r\n",
        "        actor_critic = actor_critic.cuda()\r\n",
        "\r\n",
        "\r\n",
        "\r\n",
        "    rollout = RolloutStorage(num_steps, num_envs, state_shape)\r\n",
        "    if USE_CUDA:        \r\n",
        "        rollout.cuda()\r\n",
        "\r\n",
        "    all_rewards = []\r\n",
        "    all_losses  = []    \r\n",
        "    all_step_scores = []\r\n",
        "\r\n",
        "    state = envs.reset()\r\n",
        "    state = np.moveaxis(state, -1,1)\r\n",
        "    state = torch.FloatTensor(np.float32(state))\r\n",
        "    if USE_CUDA:\r\n",
        "        state = state.cuda()\r\n",
        "\r\n",
        "    rollout.states[0].copy_(state)\r\n",
        "\r\n",
        "    episode_rewards = torch.zeros(num_envs, 1)\r\n",
        "    final_rewards   = torch.zeros(num_envs, 1)    \r\n",
        "\r\n",
        "    timer.update(time.time())\r\n",
        "\r\n",
        "    for i_update in range(num_frames):\r\n",
        "\r\n",
        "        for step in range(num_steps):                             \r\n",
        "            action = actor_critic.act(state)\r\n",
        "                               \r\n",
        "            next_state, reward, finished, _ = envs.step(action.squeeze(1).cpu().data.numpy())\r\n",
        "            next_state = np.moveaxis(next_state, -1,1)\r\n",
        "               \r\n",
        "            reward = torch.FloatTensor(reward).unsqueeze(1)\r\n",
        "            episode_rewards += reward\r\n",
        "            finished_masks = torch.FloatTensor(1-np.array(finished)).unsqueeze(1)                                                       \r\n",
        "\r\n",
        "            final_rewards *= finished_masks\r\n",
        "            final_rewards += (1-finished_masks) * episode_rewards                       \r\n",
        "                                                              \r\n",
        "            episode_rewards *= finished_masks\r\n",
        "            state = torch.FloatTensor(np.float32(next_state))                                               \r\n",
        "            \r\n",
        "            if USE_CUDA:\r\n",
        "                finished_masks = finished_masks.cuda()\r\n",
        "                state = state.cuda()\r\n",
        "            \r\n",
        "            rollout.insert(step, state, action.data, reward, finished_masks)\r\n",
        "\r\n",
        "\r\n",
        "        _, next_value = actor_critic(rollout.states[-1])\r\n",
        "        next_value = next_value.data\r\n",
        "\r\n",
        "        returns = rollout.compute_returns(next_value, gamma)\r\n",
        "\r\n",
        "        logit, action_log_probs, values, entropy = actor_critic.evaluate_actions(\r\n",
        "            rollout.states[:-1].view(-1, *state_shape),\r\n",
        "            rollout.actions.view(-1, 1)\r\n",
        "        )\r\n",
        "\r\n",
        "        values = values.view(num_steps, num_envs, 1)\r\n",
        "        action_log_probs = action_log_probs.view(num_steps, num_envs, 1)        \r\n",
        "        advantages = returns - values\r\n",
        "\r\n",
        "        value_loss = advantages.pow(2).mean()        \r\n",
        "        action_loss = -(advantages.data * action_log_probs).mean()\r\n",
        "\r\n",
        "        optimizer.zero_grad()        \r\n",
        "        loss = value_loss * value_loss_coef + action_loss - entropy * entropy_coef\r\n",
        "        \r\n",
        "        loss.backward()\r\n",
        "        nn.utils.clip_grad_norm_(actor_critic.parameters(), max_grad_norm)\r\n",
        "        optimizer.step()\r\n",
        "    \r\n",
        "        if i_update % 100 == 0:            \r\n",
        "            all_rewards.append(final_rewards.mean())\r\n",
        "            all_losses.append(loss.item())\r\n",
        "            timer.update(time.time())\r\n",
        "            loopstogo = (num_frames - i_update) / 100\r\n",
        "            estimatedtimetogo = timer.getTimeToGo(loopstogo)\r\n",
        "            \r\n",
        "            print('epoch %s. reward: %s' % (i_update, np.mean(all_rewards[-10:])))            \r\n",
        "            print('loss %s' % all_losses[-1])\r\n",
        "            logger.printDayFormat(\"estimated time to run: \", estimatedtimetogo)                     \r\n",
        "        rollout.after_update()\r\n",
        "        \r\n",
        "    logger.log(all_rewards, \"Data/\", \"all_rewards.txt\")  \r\n",
        "    logger.log(all_losses, \"Data/\", \"all_losses.txt\")      \r\n",
        "    logger.log_state_dict(actor_critic.state_dict(), \"Data/actor_critic\")  "
      ],
      "execution_count": null,
      "outputs": [
        {
          "output_type": "stream",
          "text": [
            "epoch 0. reward: 0.0\n",
            "loss -0.31579363346099854\n",
            "estimated time to run:  00:00:00:17\n",
            "[SOKOBAN] Runtime Error/Warning: Generated Model with score == 0\n",
            "[SOKOBAN] Retry . . .\n",
            "epoch 100. reward: -9.96877\n",
            "loss -0.00014008471043780446\n",
            "estimated time to run:  00:00:48:15\n",
            "[SOKOBAN] Runtime Error/Warning: Not enough free spots (#3) to place 1 player and 3 boxes.\n",
            "[SOKOBAN] Retry . . .\n",
            "epoch 200. reward: -13.229194\n",
            "loss -0.06283637881278992\n",
            "estimated time to run:  00:01:08:50\n",
            "epoch 300. reward: -14.8594055\n",
            "loss -0.005728966556489468\n",
            "estimated time to run:  00:01:15:35\n",
            "epoch 400. reward: -15.800032\n",
            "loss 0.04885183274745941\n",
            "estimated time to run:  00:01:35:03\n",
            "epoch 500. reward: -16.44795\n",
            "loss -0.10394803434610367\n",
            "estimated time to run:  00:01:28:02\n",
            "epoch 600. reward: -16.910748\n",
            "loss -0.225801482796669\n",
            "estimated time to run:  00:01:35:16\n",
            "epoch 700. reward: -17.257847\n",
            "loss 0.006992211565375328\n",
            "estimated time to run:  00:01:31:10\n",
            "epoch 800. reward: -17.555592\n",
            "loss -0.03733189031481743\n",
            "estimated time to run:  00:01:35:43\n",
            "epoch 900. reward: -17.787537\n",
            "loss 0.016505172476172447\n",
            "estimated time to run:  00:01:32:17\n",
            "epoch 1000. reward: -19.75629\n",
            "loss -0.09254207462072372\n",
            "estimated time to run:  00:01:34:36\n",
            "epoch 1100. reward: -19.731287\n",
            "loss 0.08304215967655182\n",
            "estimated time to run:  00:01:30:01\n",
            "epoch 1200. reward: -19.556911\n",
            "loss 0.25059574842453003\n",
            "estimated time to run:  00:01:30:01\n",
            "epoch 1300. reward: -19.556911\n",
            "loss -0.056509800255298615\n",
            "estimated time to run:  00:01:29:37\n",
            "[SOKOBAN] Runtime Error/Warning: Generated Model with score == 0\n",
            "[SOKOBAN] Retry . . .\n",
            "epoch 1400. reward: -19.575663\n",
            "loss -0.10691601037979126\n",
            "estimated time to run:  00:01:29:07\n",
            "epoch 1500. reward: -19.581913\n",
            "loss -0.011247157119214535\n",
            "estimated time to run:  00:01:28:24\n",
            "epoch 1600. reward: -19.405039\n",
            "loss -0.047864578664302826\n",
            "estimated time to run:  00:01:26:30\n",
            "epoch 1700. reward: -19.392538\n",
            "loss -0.05295705422759056\n",
            "estimated time to run:  00:01:23:20\n",
            "epoch 1800. reward: -19.386286\n",
            "loss 0.0167683195322752\n",
            "estimated time to run:  00:01:23:45\n",
            "[SOKOBAN] Runtime Error/Warning: Not enough free spots (#3) to place 1 player and 3 boxes.\n",
            "[SOKOBAN] Retry . . .\n",
            "epoch 1900. reward: -19.380037\n",
            "loss 0.004128623753786087\n",
            "estimated time to run:  00:01:24:20\n",
            "epoch 2000. reward: -19.361288\n",
            "loss -0.10014569759368896\n",
            "estimated time to run:  00:01:23:05\n",
            "epoch 2100. reward: -19.361286\n",
            "loss -0.11013278365135193\n",
            "estimated time to run:  00:01:22:08\n",
            "epoch 2200. reward: -19.535664\n",
            "loss 0.0021956730633974075\n",
            "estimated time to run:  00:01:21:24\n",
            "epoch 2300. reward: -19.535664\n",
            "loss -0.015095421113073826\n",
            "estimated time to run:  00:01:20:38\n",
            "epoch 2400. reward: -19.548164\n",
            "loss 2.514065980911255\n",
            "estimated time to run:  00:01:19:55\n",
            "epoch 2500. reward: -19.548164\n",
            "loss -0.007676778361201286\n",
            "estimated time to run:  00:01:18:27\n",
            "epoch 2600. reward: -19.71254\n",
            "loss 2.322096824645996\n",
            "estimated time to run:  00:01:18:03\n",
            "epoch 2700. reward: -19.731287\n",
            "loss 0.1434139609336853\n",
            "estimated time to run:  00:01:17:01\n",
            "epoch 2800. reward: -19.718786\n",
            "loss 2.163043737411499\n",
            "estimated time to run:  00:01:16:45\n",
            "epoch 2900. reward: -19.600037\n",
            "loss -0.10247475653886795\n",
            "estimated time to run:  00:01:15:49\n",
            "epoch 3000. reward: -19.488163\n",
            "loss 2.258068323135376\n",
            "estimated time to run:  00:01:14:51\n",
            "epoch 3100. reward: -19.506914\n",
            "loss 0.046624135226011276\n",
            "estimated time to run:  00:01:13:19\n",
            "epoch 3200. reward: -19.500666\n",
            "loss 1.4942184686660767\n",
            "estimated time to run:  00:01:12:59\n",
            "epoch 3300. reward: -19.494411\n",
            "loss -0.02100714109838009\n",
            "estimated time to run:  00:01:11:56\n",
            "epoch 3400. reward: -19.481915\n",
            "loss 1.9072914123535156\n",
            "estimated time to run:  00:01:12:00\n",
            "epoch 3500. reward: -19.488165\n",
            "loss -0.018150610849261284\n",
            "estimated time to run:  00:01:10:46\n",
            "epoch 3600. reward: -19.390663\n",
            "loss 2.3845725059509277\n",
            "estimated time to run:  00:01:10:31\n",
            "epoch 3700. reward: -19.384415\n",
            "loss -0.023112064227461815\n",
            "estimated time to run:  00:01:09:39\n",
            "epoch 3800. reward: -19.378162\n",
            "loss 2.6730751991271973\n",
            "estimated time to run:  00:01:08:43\n",
            "[SOKOBAN] Runtime Error/Warning: Generated Model with score == 0\n",
            "[SOKOBAN] Retry . . .\n",
            "epoch 3900. reward: -19.478165\n",
            "loss -0.0474773570895195\n",
            "estimated time to run:  00:01:07:41\n",
            "epoch 4000. reward: -19.487537\n",
            "loss 2.3485000133514404\n",
            "estimated time to run:  00:01:07:26\n",
            "epoch 4100. reward: -19.487537\n",
            "loss -0.029727429151535034\n",
            "estimated time to run:  00:01:06:34\n",
            "epoch 4200. reward: -19.46879\n",
            "loss 2.3068556785583496\n",
            "estimated time to run:  00:01:05:31\n",
            "epoch 4300. reward: -19.475039\n",
            "loss -0.05775028467178345\n",
            "estimated time to run:  00:01:04:33\n",
            "epoch 4400. reward: -19.47504\n",
            "loss 2.401989698410034\n",
            "estimated time to run:  00:01:03:29\n",
            "epoch 4500. reward: -19.47504\n",
            "loss -0.08965658396482468\n",
            "estimated time to run:  00:01:02:02\n",
            "epoch 4600. reward: -19.59754\n",
            "loss 2.4149959087371826\n",
            "estimated time to run:  00:01:00:53\n",
            "epoch 4700. reward: -19.610037\n",
            "loss -0.027867458760738373\n",
            "estimated time to run:  00:00:59:59\n",
            "epoch 4800. reward: -19.610037\n",
            "loss 2.2891628742218018\n",
            "estimated time to run:  00:00:58:48\n",
            "epoch 4900. reward: -19.62254\n",
            "loss 0.044873617589473724\n",
            "estimated time to run:  00:00:57:55\n",
            "[SOKOBAN] Runtime Error/Warning: Generated Model with score == 0\n",
            "[SOKOBAN] Retry . . .\n",
            "epoch 5000. reward: -19.762539\n",
            "loss -0.02362990193068981\n",
            "estimated time to run:  00:00:57:15\n",
            "[SOKOBAN] Runtime Error/Warning: Generated Model with score == 0\n",
            "[SOKOBAN] Retry . . .\n",
            "epoch 5100. reward: -19.731289\n",
            "loss -0.09274107217788696\n",
            "estimated time to run:  00:00:56:05\n",
            "epoch 5200. reward: -19.74379\n",
            "loss -0.05322689563035965\n",
            "estimated time to run:  00:00:54:53\n",
            "epoch 5300. reward: -19.74379\n",
            "loss -0.025880422443151474\n",
            "estimated time to run:  00:00:54:05\n",
            "epoch 5400. reward: -19.585663\n",
            "loss 0.10254394263029099\n",
            "estimated time to run:  00:00:53:11\n",
            "epoch 5500. reward: -19.554415\n",
            "loss -0.09105797111988068\n",
            "estimated time to run:  00:00:52:06\n",
            "epoch 5600. reward: -19.523163\n",
            "loss -0.02484210766851902\n",
            "estimated time to run:  00:00:50:53\n",
            "[SOKOBAN] Runtime Error/Warning: Generated Model with score == 0\n",
            "[SOKOBAN] Retry . . .\n",
            "epoch 5700. reward: -19.523165\n",
            "loss 0.14919839799404144\n",
            "estimated time to run:  00:00:49:56\n",
            "epoch 5800. reward: -19.523165\n",
            "loss -0.05439580976963043\n",
            "estimated time to run:  00:00:48:59\n",
            "epoch 5900. reward: -19.510662\n",
            "loss -0.04231678694486618\n",
            "estimated time to run:  00:00:47:48\n",
            "epoch 6000. reward: -19.479414\n",
            "loss 0.08244780451059341\n",
            "estimated time to run:  00:00:46:37\n",
            "epoch 6100. reward: -19.479412\n",
            "loss 0.09927868843078613\n",
            "estimated time to run:  00:00:45:33\n",
            "epoch 6200. reward: -19.479412\n",
            "loss -0.021883249282836914\n",
            "estimated time to run:  00:00:44:20\n",
            "epoch 6300. reward: -19.454414\n",
            "loss 0.08254824578762054\n",
            "estimated time to run:  00:00:43:21\n",
            "epoch 6400. reward: -19.62504\n",
            "loss 0.18576385080814362\n",
            "estimated time to run:  00:00:42:25\n",
            "epoch 6500. reward: -19.656288\n",
            "loss -0.08739280700683594\n",
            "estimated time to run:  00:00:41:17\n",
            "[SOKOBAN] Runtime Error/Warning: Generated Model with score == 0\n",
            "[SOKOBAN] Retry . . .\n",
            "epoch 6600. reward: -19.69379\n",
            "loss -0.056333981454372406\n",
            "estimated time to run:  00:00:40:20\n",
            "[SOKOBAN] Runtime Error/Warning: Generated Model with score == 0\n",
            "[SOKOBAN] Retry . . .\n",
            "epoch 6700. reward: -19.68754\n",
            "loss -0.022575030103325844\n",
            "estimated time to run:  00:00:39:06\n",
            "epoch 6800. reward: -19.71254\n",
            "loss -0.052296124398708344\n",
            "estimated time to run:  00:00:38:06\n",
            "epoch 6900. reward: -19.71879\n",
            "loss -0.0009143538773059845\n",
            "estimated time to run:  00:00:36:50\n",
            "epoch 7000. reward: -19.706287\n",
            "loss -0.11787924915552139\n",
            "estimated time to run:  00:00:35:40\n",
            "epoch 7100. reward: -19.712536\n",
            "loss -0.027479667216539383\n",
            "estimated time to run:  00:00:34:27\n",
            "epoch 7200. reward: -19.725039\n",
            "loss -0.05360879749059677\n",
            "estimated time to run:  00:00:33:26\n",
            "epoch 7300. reward: -19.74379\n",
            "loss -0.09519171714782715\n",
            "estimated time to run:  00:00:32:18\n",
            "epoch 7400. reward: -19.71254\n",
            "loss -0.04729834198951721\n",
            "estimated time to run:  00:00:31:13\n",
            "epoch 7500. reward: -19.706287\n",
            "loss -0.01326836459338665\n",
            "estimated time to run:  00:00:30:06\n",
            "epoch 7600. reward: -19.68754\n",
            "loss 0.04117054492235184\n",
            "estimated time to run:  00:00:28:57\n",
            "epoch 7700. reward: -19.69379\n",
            "loss -0.041925109922885895\n",
            "estimated time to run:  00:00:27:51\n",
            "[SOKOBAN] Runtime Error/Warning: Not enough free spots (#4) to place 1 player and 3 boxes.\n",
            "[SOKOBAN] Retry . . .\n",
            "epoch 7800. reward: -19.66254\n",
            "loss 0.06876881420612335\n",
            "estimated time to run:  00:00:26:37\n",
            "epoch 7900. reward: -19.675037\n",
            "loss -0.04394304007291794\n",
            "estimated time to run:  00:00:25:31\n",
            "epoch 8000. reward: -19.68129\n",
            "loss -0.05069770663976669\n",
            "estimated time to run:  00:00:24:17\n",
            "epoch 8100. reward: -19.700039\n",
            "loss -0.04393750801682472\n",
            "estimated time to run:  00:00:23:08\n",
            "epoch 8200. reward: -19.68129\n",
            "loss -0.050021104514598846\n",
            "estimated time to run:  00:00:21:59\n",
            "epoch 8300. reward: -19.68129\n",
            "loss 0.10493104159832001\n",
            "estimated time to run:  00:00:20:49\n",
            "epoch 8400. reward: -19.506914\n",
            "loss -0.019252290949225426\n",
            "estimated time to run:  00:00:19:38\n",
            "epoch 8500. reward: -19.513165\n",
            "loss -0.11537516117095947\n",
            "estimated time to run:  00:00:18:31\n",
            "epoch 8600. reward: -19.494415\n",
            "loss -0.02251795120537281\n",
            "estimated time to run:  00:00:17:18\n",
            "epoch 8700. reward: -19.494413\n",
            "loss -0.020749732851982117\n",
            "estimated time to run:  00:00:16:07\n",
            "epoch 8800. reward: -19.500666\n",
            "loss 0.07930096983909607\n",
            "estimated time to run:  00:00:14:59\n",
            "epoch 8900. reward: -19.488165\n",
            "loss 0.09612717479467392\n",
            "estimated time to run:  00:00:13:47\n",
            "[SOKOBAN] Runtime Error/Warning: Generated Model with score == 0\n",
            "[SOKOBAN] Retry . . .\n",
            "epoch 9000. reward: -19.531916\n",
            "loss -0.04827770218253136\n",
            "estimated time to run:  00:00:12:31\n",
            "epoch 9100. reward: -19.513165\n",
            "loss -0.020955190062522888\n",
            "estimated time to run:  00:00:11:18\n",
            "epoch 9200. reward: -19.506916\n",
            "loss -0.05063636228442192\n",
            "estimated time to run:  00:00:10:03\n",
            "epoch 9300. reward: -19.513163\n",
            "loss -0.021880533546209335\n",
            "estimated time to run:  00:00:08:49\n",
            "epoch 9400. reward: -19.675037\n",
            "loss 0.01668810285627842\n",
            "estimated time to run:  00:00:07:34\n",
            "epoch 9500. reward: -19.668789\n",
            "loss -0.021570060402154922\n",
            "estimated time to run:  00:00:06:19\n",
            "epoch 9600. reward: -19.70629\n",
            "loss -0.0454690121114254\n",
            "estimated time to run:  00:00:05:03\n",
            "epoch 9700. reward: -19.700039\n",
            "loss -0.04699750989675522\n",
            "estimated time to run:  00:00:03:48\n",
            "epoch 9800. reward: -19.69379\n",
            "loss -0.04877661168575287\n",
            "estimated time to run:  00:00:02:32\n",
            "epoch 9900. reward: -19.700037\n",
            "loss 0.057728126645088196\n",
            "estimated time to run:  00:00:01:16\n",
            "all_rewards.txt saved\n",
            "all_losses.txt saved\n",
            "Model  saved\n"
          ],
          "name": "stdout"
        }
      ]
    },
    {
      "cell_type": "markdown",
      "metadata": {
        "id": "sWI8NrOgqafn"
      },
      "source": [
        "Plot average reward and loss per hundreds of training steps based on training."
      ]
    },
    {
      "cell_type": "code",
      "metadata": {
        "colab": {
          "base_uri": "https://localhost:8080/",
          "height": 610
        },
        "id": "iJb4oVK8zDXn",
        "outputId": "ec0f309c-a716-4812-f257-a6c2ae3f47eb"
      },
      "source": [
        "plt.figure(figsize=(30,10))\r\n",
        "plt.subplot(131)\r\n",
        "plt.title('Reward per hundreds of iterations')\r\n",
        "plt.plot(all_rewards)\r\n",
        "plt.subplot(132)\r\n",
        "plt.title('Losses per hundreds of iterations')\r\n",
        "plt.plot(all_losses)\r\n",
        "plt.show()"
      ],
      "execution_count": null,
      "outputs": [
        {
          "output_type": "display_data",
          "data": {
            "image/png": "[encoded data removed]",
            "text/plain": [
              "<Figure size 2160x720 with 2 Axes>"
            ]
          },
          "metadata": {
            "tags": []
          }
        }
      ]
    },
    {
      "cell_type": "markdown",
      "metadata": {
        "id": "iIZvEIyyrwA1"
      },
      "source": [
        "Load results trained before from my GitHub for plotting. "
      ]
    },
    {
      "cell_type": "code",
      "metadata": {
        "colab": {
          "base_uri": "https://localhost:8080/"
        },
        "id": "rOJFBsUXrguT",
        "outputId": "4f36ee21-ef0b-4b76-abf0-7024134ef897"
      },
      "source": [
        "!wget https://raw.githubusercontent.com/kai-wren/DRL_Final_Project/main/Sokoban_A2C_10k_v2/all_losses.txt\r\n",
        "!wget https://raw.githubusercontent.com/kai-wren/DRL_Final_Project/main/Sokoban_A2C_10k_v2/all_rewards.txt"
      ],
      "execution_count": 6,
      "outputs": [
        {
          "output_type": "stream",
          "text": [
            "--2021-02-03 20:59:04--  https://raw.githubusercontent.com/kai-wren/DRL_Final_Project/main/Sokoban_A2C_10k_v2/all_losses.txt\n",
            "Resolving raw.githubusercontent.com (raw.githubusercontent.com)... 151.101.0.133, 151.101.64.133, 151.101.128.133, ...\n",
            "Connecting to raw.githubusercontent.com (raw.githubusercontent.com)|151.101.0.133|:443... connected.\n",
            "HTTP request sent, awaiting response... 200 OK\n",
            "Length: 908 [application/octet-stream]\n",
            "Saving to: ‘all_losses.txt’\n",
            "\n",
            "all_losses.txt      100%[===================>]     908  --.-KB/s    in 0s      \n",
            "\n",
            "2021-02-03 20:59:05 (41.3 MB/s) - ‘all_losses.txt’ saved [908/908]\n",
            "\n",
            "--2021-02-03 20:59:06--  https://raw.githubusercontent.com/kai-wren/DRL_Final_Project/main/Sokoban_A2C_10k_v2/all_rewards.txt\n",
            "Resolving raw.githubusercontent.com (raw.githubusercontent.com)... 151.101.0.133, 151.101.64.133, 151.101.128.133, ...\n",
            "Connecting to raw.githubusercontent.com (raw.githubusercontent.com)|151.101.0.133|:443... connected.\n",
            "HTTP request sent, awaiting response... 200 OK\n",
            "Length: 28822 (28K) [application/octet-stream]\n",
            "Saving to: ‘all_rewards.txt’\n",
            "\n",
            "all_rewards.txt     100%[===================>]  28.15K  --.-KB/s    in 0.001s  \n",
            "\n",
            "2021-02-03 20:59:06 (45.2 MB/s) - ‘all_rewards.txt’ saved [28822/28822]\n",
            "\n"
          ],
          "name": "stdout"
        }
      ]
    },
    {
      "cell_type": "markdown",
      "metadata": {
        "id": "STQkrVZctTQw"
      },
      "source": [
        "Importing loaded data into Pandas DataFrame."
      ]
    },
    {
      "cell_type": "code",
      "metadata": {
        "id": "TYTxkYvZwrc5"
      },
      "source": [
        "import pandas as pd\r\n",
        "\r\n",
        "loaded_rewards = pd.read_pickle(r'/content/all_rewards.txt')\r\n",
        "loaded_losses = pd.read_pickle(r'/content/all_losses.txt')"
      ],
      "execution_count": 8,
      "outputs": []
    },
    {
      "cell_type": "markdown",
      "metadata": {
        "id": "DKNsRvpxtYgl"
      },
      "source": [
        "Plot average reward and loss per hundreds of training steps based on saved data."
      ]
    },
    {
      "cell_type": "code",
      "metadata": {
        "colab": {
          "base_uri": "https://localhost:8080/",
          "height": 610
        },
        "id": "4maNDGvosclV",
        "outputId": "ee9534c8-8db1-420b-fb69-0561745eafd3"
      },
      "source": [
        "plt.figure(figsize=(30,10))\r\n",
        "plt.subplot(131)\r\n",
        "plt.title('Reward per hundreds of iterations')\r\n",
        "plt.plot(loaded_rewards)\r\n",
        "plt.subplot(132)\r\n",
        "plt.title('Losses per hundreds of iterations')\r\n",
        "plt.plot(loaded_losses)\r\n",
        "plt.show()"
      ],
      "execution_count": 9,
      "outputs": [
        {
          "output_type": "display_data",
          "data": {
            "image/png": "[encoded data removed]",
            "text/plain": [
              "<Figure size 2160x720 with 2 Axes>"
            ]
          },
          "metadata": {
            "tags": []
          }
        }
      ]
    },
    {
      "cell_type": "markdown",
      "metadata": {
        "id": "EFVQQgIPCscX"
      },
      "source": [
        "# Test model"
      ]
    },
    {
      "cell_type": "markdown",
      "metadata": {
        "id": "Tk29XfUathzy"
      },
      "source": [
        "## Trained model\r\n",
        "\r\n",
        "Now testing trained model on Sokoban environment and show its output."
      ]
    },
    {
      "cell_type": "markdown",
      "metadata": {
        "id": "z68lABg0u02C"
      },
      "source": [
        "Define reusable method to show agent performance and record a video out of it."
      ]
    },
    {
      "cell_type": "code",
      "metadata": {
        "id": "vUZA7moQ2aEf"
      },
      "source": [
        "def show_agent_performance(agent, env, n_episodes, max_timesteps):\r\n",
        "\r\n",
        "\r\n",
        "    env = gym.wrappers.Monitor(env, directory='videos/', force=True)\r\n",
        "\r\n",
        "    for i_episode in range(n_episodes):\r\n",
        "        state = env.reset()\r\n",
        "        for t in range(max_timesteps):\r\n",
        "            env.render()\r\n",
        "\r\n",
        "            state = np.moveaxis(state, -1,0)\r\n",
        "            state = torch.FloatTensor(np.float32(state))\r\n",
        "            state = state.unsqueeze(0)\r\n",
        "\r\n",
        "            if USE_CUDA:\r\n",
        "                state = state.cuda()\r\n",
        "            \r\n",
        "            action = agent.act(state)\r\n",
        "            action = action.squeeze(1).cpu().data.numpy()[0]\r\n",
        "            state, reward, done, info = env.step(action)\r\n",
        "\r\n",
        "            if done:\r\n",
        "                print(\"Episode finished after {} timesteps\".format(t+1))\r\n",
        "                break\r\n",
        "        else:\r\n",
        "            env.stats_recorder.save_complete()\r\n",
        "            env.stats_recorder.done = True"
      ],
      "execution_count": 15,
      "outputs": []
    },
    {
      "cell_type": "markdown",
      "metadata": {
        "id": "CO_V7ORZwNNI"
      },
      "source": [
        "Define reusable method to show agent performance and plot an image on each step."
      ]
    },
    {
      "cell_type": "code",
      "metadata": {
        "id": "HSjPTv82yTAk"
      },
      "source": [
        "from IPython.display import clear_output\r\n",
        "\r\n",
        "def show_agent_performance_v2(agent, env, n_episodes, max_timesteps):\r\n",
        "\r\n",
        "\r\n",
        "    env = gym.wrappers.Monitor(env, directory='videos/', force=True)\r\n",
        "\r\n",
        "    for i_episode in range(n_episodes):\r\n",
        "        state = env.reset()\r\n",
        "        total_reward = 0\r\n",
        "        for t in range(max_timesteps):\r\n",
        "            # env.render()\r\n",
        "\r\n",
        "            state = np.moveaxis(state, -1,0)\r\n",
        "            state = torch.FloatTensor(np.float32(state))\r\n",
        "            state = state.unsqueeze(0)\r\n",
        "\r\n",
        "            if USE_CUDA:\r\n",
        "                state = state.cuda()\r\n",
        "            \r\n",
        "            action = agent.act(state)\r\n",
        "            action = action.squeeze(1).cpu().data.numpy()[0]\r\n",
        "            state, reward, done, info = env.step(action)\r\n",
        "\r\n",
        "            total_reward += reward\r\n",
        "            clear_output(True)\r\n",
        "            plt.title(\"step %i\"%t)\r\n",
        "            plt.imshow(env.render('rgb_array'))\r\n",
        "            plt.show()\r\n",
        "\r\n",
        "            if done:\r\n",
        "                print(\"Episode finished after {} timesteps\".format(t+1))\r\n",
        "                print(\"Final reward %.5f\" %total_reward)\r\n",
        "                break"
      ],
      "execution_count": 16,
      "outputs": []
    },
    {
      "cell_type": "markdown",
      "metadata": {
        "id": "smLu9yeFuAzt"
      },
      "source": [
        "Reseting seaborn style to have better images of game environment."
      ]
    },
    {
      "cell_type": "code",
      "metadata": {
        "id": "-WVJlE_h0D7k"
      },
      "source": [
        "sns.reset_defaults()"
      ],
      "execution_count": 31,
      "outputs": []
    },
    {
      "cell_type": "markdown",
      "metadata": {
        "id": "qRgdD0C_uBbQ"
      },
      "source": [
        "Creating an environment and A2C agent for testing."
      ]
    },
    {
      "cell_type": "code",
      "metadata": {
        "id": "E0Xu2W_GxXqG"
      },
      "source": [
        "env = gym.make('Sokoban-v0')\r\n",
        "\r\n",
        "state_shape = env.observation_space.shape\r\n",
        "state_shape = (state_shape[2], state_shape[0], state_shape[1])\r\n",
        "num_actions = env.action_space.n\r\n",
        "\r\n",
        "actor_critic = ActorCritic(state_shape, num_actions)\r\n",
        "\r\n",
        "actor_critic.load_state_dict(torch.load(\"/content/Data/actor_critic\"))\r\n",
        "\r\n",
        "USE_CUDA = torch.cuda.is_available()\r\n",
        "\r\n",
        "if USE_CUDA:\r\n",
        "  actor_critic.cuda()"
      ],
      "execution_count": null,
      "outputs": []
    },
    {
      "cell_type": "markdown",
      "metadata": {
        "id": "9W2sNReAwiki"
      },
      "source": [
        "Test model and record a video out of it."
      ]
    },
    {
      "cell_type": "code",
      "metadata": {
        "id": "Hted7GqO2esb",
        "colab": {
          "base_uri": "https://localhost:8080/"
        },
        "outputId": "12efd9e0-f8e9-467d-ecb0-814cdf85c9d5"
      },
      "source": [
        "pyvirtualdisplay.Display(visible=False, size=(140, 100)).start()\r\n",
        "d_env = gym.make('Sokoban-v0')\r\n",
        "show_agent_performance(actor_critic, d_env, 5, 300)"
      ],
      "execution_count": null,
      "outputs": [
        {
          "output_type": "stream",
          "text": [
            "Episode finished after 200 timesteps\n",
            "Episode finished after 200 timesteps\n",
            "Episode finished after 200 timesteps\n",
            "Episode finished after 200 timesteps\n",
            "Episode finished after 200 timesteps\n"
          ],
          "name": "stdout"
        }
      ]
    },
    {
      "cell_type": "markdown",
      "metadata": {
        "id": "Ia7-DYtvwnpl"
      },
      "source": [
        "Play recorded video in the notebook itself."
      ]
    },
    {
      "cell_type": "code",
      "metadata": {
        "id": "xoTc-tuGB9bq",
        "colab": {
          "base_uri": "https://localhost:8080/",
          "height": 521
        },
        "outputId": "08ac0ebf-9d64-4a3f-937e-c841fe6349b0"
      },
      "source": [
        "import kora\r\n",
        "from IPython.display import HTML\r\n",
        "from kora.drive import upload_public\r\n",
        "\r\n",
        "def play_video(name):\r\n",
        "  url = upload_public(f'videos/{name}')\r\n",
        "  return HTML(f\"\"\"<video src={url} width=500 controls/>\"\"\")\r\n",
        "\r\n",
        "play_video('openaigym.video.2.529.video000000.mp4') #change of file name might be required for each run"
      ],
      "execution_count": null,
      "outputs": [
        {
          "output_type": "execute_result",
          "data": {
            "text/html": [
              "<video src=https://drive.google.com/uc?id=1xAl-auIO3IQ-DV-3I-EwgqSLEdzSCqsd width=500 controls/>"
            ],
            "text/plain": [
              "<IPython.core.display.HTML object>"
            ]
          },
          "metadata": {
            "tags": []
          },
          "execution_count": 19
        }
      ]
    },
    {
      "cell_type": "markdown",
      "metadata": {
        "id": "pyoadQ-7wr_4"
      },
      "source": [
        "Test model and plot a picture on each step."
      ]
    },
    {
      "cell_type": "code",
      "metadata": {
        "colab": {
          "base_uri": "https://localhost:8080/",
          "height": 318
        },
        "id": "Luss3mxFySgb",
        "outputId": "4f493546-5d38-43d4-c1a3-258564bb43a1"
      },
      "source": [
        "pyvirtualdisplay.Display(visible=False, size=(140, 100)).start()\r\n",
        "d_env = gym.make('Sokoban-v0')\r\n",
        "show_agent_performance_v2(actor_critic, d_env, 1, 300)"
      ],
      "execution_count": null,
      "outputs": [
        {
          "output_type": "display_data",
          "data": {
            "image/png": "[encoded data removed]",
            "text/plain": [
              "<Figure size 432x288 with 1 Axes>"
            ]
          },
          "metadata": {
            "tags": [],
            "needs_background": "light"
          }
        },
        {
          "output_type": "stream",
          "text": [
            "Episode finished after 200 timesteps\n",
            "Final reward -19.00000\n"
          ],
          "name": "stdout"
        }
      ]
    },
    {
      "cell_type": "markdown",
      "metadata": {
        "id": "OHalskjiw1nF"
      },
      "source": [
        "## Saved model\r\n",
        "\r\n",
        "Download model trained by me from GitHub if training need to be skipped."
      ]
    },
    {
      "cell_type": "code",
      "metadata": {
        "colab": {
          "base_uri": "https://localhost:8080/"
        },
        "id": "GSq-Ukwaw1O2",
        "outputId": "0923f061-d366-49bf-8ab7-901b8bc75b3d"
      },
      "source": [
        "!wget https://raw.githubusercontent.com/kai-wren/DRL_Final_Project/main/Sokoban_A2C_10k_v2/actor_critic"
      ],
      "execution_count": 10,
      "outputs": [
        {
          "output_type": "stream",
          "text": [
            "--2021-02-03 21:20:55--  https://raw.githubusercontent.com/kai-wren/DRL_Final_Project/main/Sokoban_A2C_10k_v2/actor_critic\n",
            "Resolving raw.githubusercontent.com (raw.githubusercontent.com)... 151.101.0.133, 151.101.64.133, 151.101.128.133, ...\n",
            "Connecting to raw.githubusercontent.com (raw.githubusercontent.com)|151.101.0.133|:443... connected.\n",
            "HTTP request sent, awaiting response... 200 OK\n",
            "Length: 33885011 (32M) [application/octet-stream]\n",
            "Saving to: ‘actor_critic’\n",
            "\n",
            "actor_critic        100%[===================>]  32.31M   159MB/s    in 0.2s    \n",
            "\n",
            "2021-02-03 21:20:57 (159 MB/s) - ‘actor_critic’ saved [33885011/33885011]\n",
            "\n"
          ],
          "name": "stdout"
        }
      ]
    },
    {
      "cell_type": "markdown",
      "metadata": {
        "id": "6mC-AbBNzj3b"
      },
      "source": [
        "Creating an environment and load A2C agent for testing."
      ]
    },
    {
      "cell_type": "code",
      "metadata": {
        "id": "3F7G8q90xKa2"
      },
      "source": [
        "env = gym.make('Sokoban-v0')\r\n",
        "\r\n",
        "state_shape = env.observation_space.shape\r\n",
        "state_shape = (state_shape[2], state_shape[0], state_shape[1])\r\n",
        "num_actions = env.action_space.n\r\n",
        "\r\n",
        "actor_critic_loaded = ActorCritic(state_shape, num_actions)\r\n",
        "\r\n",
        "actor_critic_loaded.load_state_dict(torch.load(\"/content/actor_critic\"))\r\n",
        "\r\n",
        "USE_CUDA = torch.cuda.is_available()\r\n",
        "\r\n",
        "if USE_CUDA:\r\n",
        "  actor_critic_loaded.cuda()"
      ],
      "execution_count": 13,
      "outputs": []
    },
    {
      "cell_type": "markdown",
      "metadata": {
        "id": "zxb-iqDFzmAH"
      },
      "source": [
        "Test model and record a video out of it."
      ]
    },
    {
      "cell_type": "code",
      "metadata": {
        "colab": {
          "base_uri": "https://localhost:8080/"
        },
        "id": "bnAwCzMnxb1Z",
        "outputId": "c2091011-d1bc-4064-e657-6009f1ae27fe"
      },
      "source": [
        "pyvirtualdisplay.Display(visible=False, size=(140, 100)).start()\r\n",
        "d_env = gym.make('Sokoban-v0')\r\n",
        "show_agent_performance(actor_critic_loaded, d_env, 5, 300)"
      ],
      "execution_count": 26,
      "outputs": [
        {
          "output_type": "stream",
          "text": [
            "Episode finished after 200 timesteps\n",
            "Episode finished after 200 timesteps\n",
            "Episode finished after 200 timesteps\n",
            "Episode finished after 200 timesteps\n",
            "Episode finished after 200 timesteps\n"
          ],
          "name": "stdout"
        }
      ]
    },
    {
      "cell_type": "markdown",
      "metadata": {
        "id": "EvJBl7b8zrfZ"
      },
      "source": [
        "Play recorded video in the notebook itself."
      ]
    },
    {
      "cell_type": "code",
      "metadata": {
        "colab": {
          "base_uri": "https://localhost:8080/",
          "height": 521
        },
        "id": "GWR2kqI3x8hi",
        "outputId": "c988494b-e778-4ee6-c5bd-ea946033085a"
      },
      "source": [
        "import kora\r\n",
        "from IPython.display import HTML\r\n",
        "from kora.drive import upload_public\r\n",
        "\r\n",
        "def play_video(name):\r\n",
        "  url = upload_public(f'videos/{name}')\r\n",
        "  return HTML(f\"\"\"<video src={url} width=500 controls/>\"\"\")\r\n",
        "\r\n",
        "play_video('openaigym.video.3.76.video000001.mp4') #change of file name might be required for each run"
      ],
      "execution_count": 29,
      "outputs": [
        {
          "output_type": "execute_result",
          "data": {
            "text/html": [
              "<video src=https://drive.google.com/uc?id=1t7ilO768iyv_hnEq9inM6jGXGL3gbb-a width=500 controls/>"
            ],
            "text/plain": [
              "<IPython.core.display.HTML object>"
            ]
          },
          "metadata": {
            "tags": []
          },
          "execution_count": 29
        }
      ]
    },
    {
      "cell_type": "markdown",
      "metadata": {
        "id": "aOm6mKvLzuyJ"
      },
      "source": [
        "Test model and plot a picture on each step."
      ]
    },
    {
      "cell_type": "code",
      "metadata": {
        "colab": {
          "base_uri": "https://localhost:8080/",
          "height": 489
        },
        "id": "fNw1DoK2y-5n",
        "outputId": "6cb3b908-f8d8-4f32-9637-ed9b41c38b83"
      },
      "source": [
        "pyvirtualdisplay.Display(visible=False, size=(140, 100)).start()\r\n",
        "d_env = gym.make('Sokoban-v0')\r\n",
        "show_agent_performance_v2(actor_critic_loaded, d_env, 1, 300)"
      ],
      "execution_count": 32,
      "outputs": [
        {
          "output_type": "display_data",
          "data": {
            "image/png": "[encoded data removed]",
            "text/plain": [
              "<Figure size 640x480 with 1 Axes>"
            ]
          },
          "metadata": {
            "tags": []
          }
        },
        {
          "output_type": "stream",
          "text": [
            "Episode finished after 200 timesteps\n",
            "Final reward -19.00000\n"
          ],
          "name": "stdout"
        }
      ]
    }
  ]
}