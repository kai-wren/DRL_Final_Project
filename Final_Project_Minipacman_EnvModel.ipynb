{
  "nbformat": 4,
  "nbformat_minor": 0,
  "metadata": {
    "colab": {
      "name": "Final Project_Minipacman_EnvModel.ipynb",
      "provenance": [],
      "collapsed_sections": [],
      "machine_shape": "hm"
    },
    "kernelspec": {
      "name": "python3",
      "display_name": "Python 3"
    },
    "accelerator": "GPU"
  },
  "cells": [
    {
      "cell_type": "markdown",
      "metadata": {
        "id": "v7jZMGu_YOgR"
      },
      "source": [
        "# Pre-requisites\r\n",
        "\r\n",
        "Instaling required modules in Google Colab as Linux packages."
      ]
    },
    {
      "cell_type": "code",
      "metadata": {
        "colab": {
          "base_uri": "https://localhost:8080/"
        },
        "id": "gny5PEtU3G8G",
        "outputId": "9a4bc701-545c-4a4f-c684-82a6f3250d03"
      },
      "source": [
        "!apt-get install -y xvfb python-opengl x11-utils\r\n",
        "\r\n",
        "!pip install pyvirtualdisplay PyOpenGL PyOpenGL-accelerate kora"
      ],
      "execution_count": null,
      "outputs": [
        {
          "output_type": "stream",
          "text": [
            "Reading package lists... Done\n",
            "Building dependency tree       \n",
            "Reading state information... Done\n",
            "The following additional packages will be installed:\n",
            "  libxxf86dga1\n",
            "Suggested packages:\n",
            "  libgle3 mesa-utils\n",
            "The following NEW packages will be installed:\n",
            "  libxxf86dga1 python-opengl x11-utils xvfb\n",
            "0 upgraded, 4 newly installed, 0 to remove and 13 not upgraded.\n",
            "Need to get 1,490 kB of archives.\n",
            "After this operation, 8,397 kB of additional disk space will be used.\n",
            "Get:1 http://archive.ubuntu.com/ubuntu bionic/main amd64 libxxf86dga1 amd64 2:1.1.4-1 [13.7 kB]\n",
            "Get:2 http://archive.ubuntu.com/ubuntu bionic/universe amd64 python-opengl all 3.1.0+dfsg-1 [496 kB]\n",
            "Get:3 http://archive.ubuntu.com/ubuntu bionic/main amd64 x11-utils amd64 7.7+3build1 [196 kB]\n",
            "Get:4 http://archive.ubuntu.com/ubuntu bionic-updates/universe amd64 xvfb amd64 2:1.19.6-1ubuntu4.8 [784 kB]\n",
            "Fetched 1,490 kB in 1s (1,241 kB/s)\n",
            "Selecting previously unselected package libxxf86dga1:amd64.\n",
            "(Reading database ... 146374 files and directories currently installed.)\n",
            "Preparing to unpack .../libxxf86dga1_2%3a1.1.4-1_amd64.deb ...\n",
            "Unpacking libxxf86dga1:amd64 (2:1.1.4-1) ...\n",
            "Selecting previously unselected package python-opengl.\n",
            "Preparing to unpack .../python-opengl_3.1.0+dfsg-1_all.deb ...\n",
            "Unpacking python-opengl (3.1.0+dfsg-1) ...\n",
            "Selecting previously unselected package x11-utils.\n",
            "Preparing to unpack .../x11-utils_7.7+3build1_amd64.deb ...\n",
            "Unpacking x11-utils (7.7+3build1) ...\n",
            "Selecting previously unselected package xvfb.\n",
            "Preparing to unpack .../xvfb_2%3a1.19.6-1ubuntu4.8_amd64.deb ...\n",
            "Unpacking xvfb (2:1.19.6-1ubuntu4.8) ...\n",
            "Setting up python-opengl (3.1.0+dfsg-1) ...\n",
            "Setting up xvfb (2:1.19.6-1ubuntu4.8) ...\n",
            "Setting up libxxf86dga1:amd64 (2:1.1.4-1) ...\n",
            "Setting up x11-utils (7.7+3build1) ...\n",
            "Processing triggers for man-db (2.8.3-2ubuntu0.1) ...\n",
            "Processing triggers for libc-bin (2.27-3ubuntu1.3) ...\n",
            "/sbin/ldconfig.real: /usr/local/lib/python3.6/dist-packages/ideep4py/lib/libmkldnn.so.0 is not a symbolic link\n",
            "\n",
            "Collecting pyvirtualdisplay\n",
            "  Downloading https://files.pythonhosted.org/packages/ad/05/6568620fed440941b704664b9cfe5f836ad699ac7694745e7787fbdc8063/PyVirtualDisplay-2.0-py2.py3-none-any.whl\n",
            "Requirement already satisfied: PyOpenGL in /usr/local/lib/python3.6/dist-packages (3.1.5)\n",
            "Collecting PyOpenGL-accelerate\n",
            "\u001b[?25l  Downloading https://files.pythonhosted.org/packages/a2/3c/f42a62b7784c04b20f8b88d6c8ad04f4f20b0767b721102418aad94d8389/PyOpenGL-accelerate-3.1.5.tar.gz (538kB)\n",
            "\u001b[K     |████████████████████████████████| 542kB 10.1MB/s \n",
            "\u001b[?25hCollecting kora\n",
            "\u001b[?25l  Downloading https://files.pythonhosted.org/packages/5b/0d/3d9ab9ee747f0925b038e8350ce137276a7a4730a96a3516485dc1b87ba3/kora-0.9.19-py3-none-any.whl (57kB)\n",
            "\u001b[K     |████████████████████████████████| 61kB 9.5MB/s \n",
            "\u001b[?25hCollecting EasyProcess\n",
            "  Downloading https://files.pythonhosted.org/packages/48/3c/75573613641c90c6d094059ac28adb748560d99bd27ee6f80cce398f404e/EasyProcess-0.3-py2.py3-none-any.whl\n",
            "Requirement already satisfied: ipython in /usr/local/lib/python3.6/dist-packages (from kora) (5.5.0)\n",
            "Collecting fastcore\n",
            "\u001b[?25l  Downloading https://files.pythonhosted.org/packages/0c/98/60404e2817cff113a6ae4023bc1772e23179408fdf7857fa410551758dfe/fastcore-1.3.19-py3-none-any.whl (53kB)\n",
            "\u001b[K     |████████████████████████████████| 61kB 10.2MB/s \n",
            "\u001b[?25hRequirement already satisfied: pygments in /usr/local/lib/python3.6/dist-packages (from ipython->kora) (2.6.1)\n",
            "Requirement already satisfied: setuptools>=18.5 in /usr/local/lib/python3.6/dist-packages (from ipython->kora) (51.3.3)\n",
            "Requirement already satisfied: decorator in /usr/local/lib/python3.6/dist-packages (from ipython->kora) (4.4.2)\n",
            "Requirement already satisfied: pexpect; sys_platform != \"win32\" in /usr/local/lib/python3.6/dist-packages (from ipython->kora) (4.8.0)\n",
            "Requirement already satisfied: simplegeneric>0.8 in /usr/local/lib/python3.6/dist-packages (from ipython->kora) (0.8.1)\n",
            "Requirement already satisfied: traitlets>=4.2 in /usr/local/lib/python3.6/dist-packages (from ipython->kora) (4.3.3)\n",
            "Requirement already satisfied: pickleshare in /usr/local/lib/python3.6/dist-packages (from ipython->kora) (0.7.5)\n",
            "Requirement already satisfied: prompt-toolkit<2.0.0,>=1.0.4 in /usr/local/lib/python3.6/dist-packages (from ipython->kora) (1.0.18)\n",
            "Requirement already satisfied: packaging in /usr/local/lib/python3.6/dist-packages (from fastcore->kora) (20.8)\n",
            "Requirement already satisfied: pip in /usr/local/lib/python3.6/dist-packages (from fastcore->kora) (19.3.1)\n",
            "Requirement already satisfied: ptyprocess>=0.5 in /usr/local/lib/python3.6/dist-packages (from pexpect; sys_platform != \"win32\"->ipython->kora) (0.7.0)\n",
            "Requirement already satisfied: six in /usr/local/lib/python3.6/dist-packages (from traitlets>=4.2->ipython->kora) (1.15.0)\n",
            "Requirement already satisfied: ipython-genutils in /usr/local/lib/python3.6/dist-packages (from traitlets>=4.2->ipython->kora) (0.2.0)\n",
            "Requirement already satisfied: wcwidth in /usr/local/lib/python3.6/dist-packages (from prompt-toolkit<2.0.0,>=1.0.4->ipython->kora) (0.2.5)\n",
            "Requirement already satisfied: pyparsing>=2.0.2 in /usr/local/lib/python3.6/dist-packages (from packaging->fastcore->kora) (2.4.7)\n",
            "Building wheels for collected packages: PyOpenGL-accelerate\n",
            "  Building wheel for PyOpenGL-accelerate (setup.py) ... \u001b[?25l\u001b[?25hdone\n",
            "  Created wheel for PyOpenGL-accelerate: filename=PyOpenGL_accelerate-3.1.5-cp36-cp36m-linux_x86_64.whl size=1593673 sha256=2a7133abb58e8bc677a6ee5d25c1c6de0f2bc978baf792c934d6649b0125c0e2\n",
            "  Stored in directory: /root/.cache/pip/wheels/bd/21/77/99670ceca25fddb3c2b60a7ae44644b8253d1006e8ec417bcc\n",
            "Successfully built PyOpenGL-accelerate\n",
            "Installing collected packages: EasyProcess, pyvirtualdisplay, PyOpenGL-accelerate, fastcore, kora\n",
            "Successfully installed EasyProcess-0.3 PyOpenGL-accelerate-3.1.5 fastcore-1.3.19 kora-0.9.19 pyvirtualdisplay-2.0\n"
          ],
          "name": "stdout"
        }
      ]
    },
    {
      "cell_type": "markdown",
      "metadata": {
        "id": "mED934lcYWo8"
      },
      "source": [
        "Importing basic set of libraries."
      ]
    },
    {
      "cell_type": "code",
      "metadata": {
        "id": "FLSjkLiRwNZH"
      },
      "source": [
        "import numpy as np\r\n",
        "\r\n",
        "import torch\r\n",
        "import torch.nn as nn\r\n",
        "import torch.optim as optim\r\n",
        "import torch.nn.functional as F\r\n",
        "import torch.autograd as autograd"
      ],
      "execution_count": null,
      "outputs": []
    },
    {
      "cell_type": "markdown",
      "metadata": {
        "id": "nYV3QJTeYXMo"
      },
      "source": [
        "Importing libraries for plotting images to showcase environment."
      ]
    },
    {
      "cell_type": "code",
      "metadata": {
        "id": "zRu7DdDMV2Fx"
      },
      "source": [
        "from IPython.display import clear_output\r\n",
        "import matplotlib.pyplot as plt\r\n",
        "%matplotlib inline"
      ],
      "execution_count": null,
      "outputs": []
    },
    {
      "cell_type": "markdown",
      "metadata": {
        "id": "nZjdJIYlYZto"
      },
      "source": [
        "Import seaborn to make charts better."
      ]
    },
    {
      "cell_type": "code",
      "metadata": {
        "id": "nFtbSawi9IVy"
      },
      "source": [
        "import seaborn as sns\r\n",
        "sns.set()"
      ],
      "execution_count": null,
      "outputs": []
    },
    {
      "cell_type": "markdown",
      "metadata": {
        "id": "HvPNnABjYdtu"
      },
      "source": [
        "Utilize power of Colab GPU if available."
      ]
    },
    {
      "cell_type": "code",
      "metadata": {
        "id": "bNKMKCQSV2DA"
      },
      "source": [
        "USE_CUDA = torch.cuda.is_available()\r\n",
        "Variable = lambda *args, **kwargs: autograd.Variable(*args, **kwargs).cuda() if USE_CUDA else autograd.Variable(*args, **kwargs)"
      ],
      "execution_count": null,
      "outputs": []
    },
    {
      "cell_type": "markdown",
      "metadata": {
        "id": "iB4SUhHlYoXZ"
      },
      "source": [
        "# Reusable assets"
      ]
    },
    {
      "cell_type": "markdown",
      "metadata": {
        "id": "Mi4zuwjuYpFW"
      },
      "source": [
        "Outputs of the Environment Model is trained to predict the next frame and reward by stochastic gradient decent on the Bernoulli cross-entropy between network outputs and data.\r\n",
        "\r\n",
        "Defining reward vectors for different game modes and different pixel types which could appear in game."
      ]
    },
    {
      "cell_type": "code",
      "metadata": {
        "id": "nShwa1jQjl-I"
      },
      "source": [
        "#7 different pixels in MiniPacman\r\n",
        "pixels = (\r\n",
        "    (0.0, 1.0, 1.0),\r\n",
        "    (0.0, 1.0, 0.0), \r\n",
        "    (0.0, 0.0, 1.0),\r\n",
        "    (1.0, 1.0, 1.0),\r\n",
        "    (1.0, 1.0, 0.0), \r\n",
        "    (0.0, 0.0, 0.0),\r\n",
        "    (1.0, 0.0, 0.0),\r\n",
        ")\r\n",
        "pixel_to_categorical = {pix:i for i, pix in enumerate(pixels)} \r\n",
        "num_pixels = len(pixels)\r\n",
        "\r\n",
        "#For each mode in MiniPacman there are different rewards\r\n",
        "mode_rewards = {\r\n",
        "    \"regular\": [0, 1, 2, 3, 4, 5, 6, 7, 8, 9],\r\n",
        "    \"avoid\":   [0.1, -0.1, -5, -10, -20],\r\n",
        "    \"hunt\":    [0, 1, 10, -20],\r\n",
        "    \"ambush\":  [0, -0.1, 10, -20],\r\n",
        "    \"rush\":    [0, -0.1, 9.9]\r\n",
        "}\r\n",
        "reward_to_categorical = {mode: {reward:i for i, reward in enumerate(mode_rewards[mode])} for mode in mode_rewards.keys()}"
      ],
      "execution_count": null,
      "outputs": []
    },
    {
      "cell_type": "markdown",
      "metadata": {
        "id": "R-RGAMmhZMRV"
      },
      "source": [
        "Defining set of methods to be used later by environment model. "
      ]
    },
    {
      "cell_type": "code",
      "metadata": {
        "id": "UVEialJcjl7Q"
      },
      "source": [
        "def pix_to_target(next_states):\r\n",
        "    target = []\r\n",
        "    for pixel in next_states.transpose(0, 2, 3, 1).reshape(-1, 3):\r\n",
        "        target.append(pixel_to_categorical[tuple([np.ceil(pixel[0]), np.ceil(pixel[1]), np.ceil(pixel[2])])])\r\n",
        "    return target\r\n",
        "\r\n",
        "def target_to_pix(imagined_states):\r\n",
        "    pixels = []\r\n",
        "    to_pixel = {value: key for key, value in pixel_to_categorical.items()}\r\n",
        "    for target in imagined_states:\r\n",
        "        pixels.append(list(to_pixel[target]))\r\n",
        "    return np.array(pixels)\r\n",
        "\r\n",
        "def rewards_to_target(mode, rewards):\r\n",
        "    target = []\r\n",
        "    for reward in rewards:\r\n",
        "        target.append(reward_to_categorical[mode][reward])\r\n",
        "    return target\r\n",
        "\r\n",
        "def plot(frame_idx, rewards, losses):\r\n",
        "    clear_output(True)\r\n",
        "    plt.figure(figsize=(20,10))\r\n",
        "    plt.title('loss %s' % losses[-1])\r\n",
        "    plt.plot(losses)\r\n",
        "    plt.show()\r\n",
        "    \r\n",
        "def displayImage(image, step, reward):\r\n",
        "    s = str(step) + \" \" + str(reward)\r\n",
        "    plt.title(s)\r\n",
        "    plt.imshow(image)\r\n",
        "    plt.show()"
      ],
      "execution_count": null,
      "outputs": []
    },
    {
      "cell_type": "markdown",
      "metadata": {
        "id": "_1hVccNDZygl"
      },
      "source": [
        "The input and output frames are of size 3 x 15 x 19 (RGB x width x height). The model consisted of a size preserving, multi-scale CNN architecture with additional fully connected layers for reward prediction.\r\n",
        "In order to capture long-range dependencies across pixels, we also make use of a layer called pool-and-inject, which applies global max-pooling over each feature map and broadcasts the resulting values as feature maps of the same size and concatenates the result to the input. Pool-and-inject layers are therefore size-preserving layers which communicate the max-value of each layer globally to the next convolutional layer.\r\n",
        "\r\n",
        "Defining a basic block of environment model."
      ]
    },
    {
      "cell_type": "code",
      "metadata": {
        "id": "1m1lC5Nljl4d"
      },
      "source": [
        "class BasicBlock(nn.Module):\r\n",
        "    def __init__(self, in_shape, n1, n2, n3):\r\n",
        "        super(BasicBlock, self).__init__()\r\n",
        "        \r\n",
        "        self.in_shape = in_shape\r\n",
        "        self.n1 = n1\r\n",
        "        self.n2 = n2\r\n",
        "        self.n3 = n3\r\n",
        "        \r\n",
        "        self.maxpool = nn.MaxPool2d(kernel_size=in_shape[1:])\r\n",
        "        self.conv1 = nn.Sequential(\r\n",
        "            nn.Conv2d(in_shape[0] * 2, n1, kernel_size=1, stride=2, padding=6),\r\n",
        "            nn.ReLU(),\r\n",
        "            nn.Conv2d(n1, n1, kernel_size=10, stride=1, padding=(5, 6)),\r\n",
        "            nn.ReLU(),\r\n",
        "        )\r\n",
        "        self.conv2 = nn.Sequential(\r\n",
        "            nn.Conv2d(in_shape[0] * 2, n2, kernel_size=1),\r\n",
        "            nn.ReLU(),\r\n",
        "            nn.Conv2d(n2, n2, kernel_size=3, stride=1, padding=1),\r\n",
        "            nn.ReLU(),\r\n",
        "        )\r\n",
        "        self.conv3 = nn.Sequential(\r\n",
        "            nn.Conv2d(n1 + n2,  n3, kernel_size=1),\r\n",
        "            nn.ReLU()\r\n",
        "        )\r\n",
        "        \r\n",
        "    def forward(self, inputs):\r\n",
        "        x = self.pool_and_inject(inputs)\r\n",
        "        x = torch.cat([self.conv1(x), self.conv2(x)], 1)\r\n",
        "        x = self.conv3(x)\r\n",
        "        x = torch.cat([x, inputs], 1)\r\n",
        "        return x\r\n",
        "    \r\n",
        "    def pool_and_inject(self, x):\r\n",
        "        pooled     = self.maxpool(x)\r\n",
        "        tiled      = pooled.expand((x.size(0),) + self.in_shape)\r\n",
        "        out        = torch.cat([tiled, x], 1)\r\n",
        "        return out"
      ],
      "execution_count": null,
      "outputs": []
    },
    {
      "cell_type": "markdown",
      "metadata": {
        "id": "mjzLZF7VaHTW"
      },
      "source": [
        "Defining environment model itself using basic blocks from cell above."
      ]
    },
    {
      "cell_type": "code",
      "metadata": {
        "id": "W6TCsXmjjl1y"
      },
      "source": [
        "class EnvModel(nn.Module):\r\n",
        "    def __init__(self, in_shape, num_pixels, num_rewards):\r\n",
        "        super(EnvModel, self).__init__()\r\n",
        "        \r\n",
        "        width  = in_shape[1]\r\n",
        "        height = in_shape[2]\r\n",
        "        \r\n",
        "        self.conv = nn.Sequential(\r\n",
        "            nn.Conv2d(8, 64, kernel_size=1),\r\n",
        "            nn.ReLU()\r\n",
        "        )\r\n",
        "        \r\n",
        "        self.basic_block1 = BasicBlock((64, width, height), 16, 32, 64)\r\n",
        "        self.basic_block2 = BasicBlock((128, width, height), 16, 32, 64)\r\n",
        "        \r\n",
        "        self.image_conv = nn.Sequential(\r\n",
        "            nn.Conv2d(192, 256, kernel_size=1),\r\n",
        "            nn.ReLU()\r\n",
        "        )\r\n",
        "        self.image_fc = nn.Linear(256, num_pixels)\r\n",
        "        \r\n",
        "        self.reward_conv = nn.Sequential(\r\n",
        "            nn.Conv2d(192, 64, kernel_size=1),\r\n",
        "            nn.ReLU(),\r\n",
        "            nn.Conv2d(64, 64, kernel_size=1),\r\n",
        "            nn.ReLU()\r\n",
        "        )\r\n",
        "        self.reward_fc    = nn.Linear(64 * width * height, num_rewards)\r\n",
        "        \r\n",
        "    def forward(self, inputs):\r\n",
        "        batch_size = inputs.size(0)\r\n",
        "        \r\n",
        "        x = self.conv(inputs)\r\n",
        "        x = self.basic_block1(x)\r\n",
        "        x = self.basic_block2(x)\r\n",
        "        \r\n",
        "        image = self.image_conv(x)\r\n",
        "        image = image.permute(0, 2, 3, 1).contiguous().view(-1, 256)\r\n",
        "        image = self.image_fc(image)\r\n",
        "\r\n",
        "        reward = self.reward_conv(x)\r\n",
        "        reward = reward.view(batch_size, -1)\r\n",
        "        reward = self.reward_fc(reward)\r\n",
        "        \r\n",
        "        return image, reward"
      ],
      "execution_count": null,
      "outputs": []
    },
    {
      "cell_type": "markdown",
      "metadata": {
        "id": "r6YO6R0UaRdG"
      },
      "source": [
        "Defining a class which will be used to execute multiple environments in parallel."
      ]
    },
    {
      "cell_type": "code",
      "metadata": {
        "id": "UB6qFsimkUE_"
      },
      "source": [
        "#This code is from openai baseline\r\n",
        "#https://github.com/openai/baselines/tree/master/baselines/common/vec_env\r\n",
        "\r\n",
        "import numpy as np\r\n",
        "from multiprocessing import Process, Pipe\r\n",
        "\r\n",
        "def worker(remote, parent_remote, env_fn_wrapper):\r\n",
        "    parent_remote.close()\r\n",
        "    env = env_fn_wrapper.x()\r\n",
        "    while True:\r\n",
        "        cmd, data = remote.recv()\r\n",
        "        if cmd == 'step':\r\n",
        "            ob, reward, done, info = env.step(data)\r\n",
        "            if done:\r\n",
        "                ob = env.reset()\r\n",
        "            remote.send((ob, reward, done, info))\r\n",
        "        elif cmd == 'reset':\r\n",
        "            ob = env.reset()\r\n",
        "            remote.send(ob)\r\n",
        "        elif cmd == 'reset_task':\r\n",
        "            ob = env.reset_task()\r\n",
        "            remote.send(ob)\r\n",
        "        elif cmd == 'close':\r\n",
        "            remote.close()\r\n",
        "            break\r\n",
        "        elif cmd == 'get_spaces':\r\n",
        "            remote.send((env.observation_space, env.action_space))\r\n",
        "        else:\r\n",
        "            raise NotImplementedError\r\n",
        "\r\n",
        "class VecEnv(object):\r\n",
        "    \"\"\"\r\n",
        "    An abstract asynchronous, vectorized environment.\r\n",
        "    \"\"\"\r\n",
        "    def __init__(self, num_envs, observation_space, action_space):\r\n",
        "        self.num_envs = num_envs\r\n",
        "        self.observation_space = observation_space\r\n",
        "        self.action_space = action_space\r\n",
        "\r\n",
        "    def reset(self):\r\n",
        "        \"\"\"\r\n",
        "        Reset all the environments and return an array of\r\n",
        "        observations, or a tuple of observation arrays.\r\n",
        "        If step_async is still doing work, that work will\r\n",
        "        be cancelled and step_wait() should not be called\r\n",
        "        until step_async() is invoked again.\r\n",
        "        \"\"\"\r\n",
        "        pass\r\n",
        "\r\n",
        "    def step_async(self, actions):\r\n",
        "        \"\"\"\r\n",
        "        Tell all the environments to start taking a step\r\n",
        "        with the given actions.\r\n",
        "        Call step_wait() to get the results of the step.\r\n",
        "        You should not call this if a step_async run is\r\n",
        "        already pending.\r\n",
        "        \"\"\"\r\n",
        "        pass\r\n",
        "\r\n",
        "    def step_wait(self):\r\n",
        "        \"\"\"\r\n",
        "        Wait for the step taken with step_async().\r\n",
        "        Returns (obs, rews, dones, infos):\r\n",
        "         - obs: an array of observations, or a tuple of\r\n",
        "                arrays of observations.\r\n",
        "         - rews: an array of rewards\r\n",
        "         - dones: an array of \"episode done\" booleans\r\n",
        "         - infos: a sequence of info objects\r\n",
        "        \"\"\"\r\n",
        "        pass\r\n",
        "\r\n",
        "    def close(self):\r\n",
        "        \"\"\"\r\n",
        "        Clean up the environments' resources.\r\n",
        "        \"\"\"\r\n",
        "        pass\r\n",
        "\r\n",
        "    def step(self, actions):\r\n",
        "        self.step_async(actions)\r\n",
        "        return self.step_wait()\r\n",
        "\r\n",
        "    \r\n",
        "class CloudpickleWrapper(object):\r\n",
        "    \"\"\"\r\n",
        "    Uses cloudpickle to serialize contents (otherwise multiprocessing tries to use pickle)\r\n",
        "    \"\"\"\r\n",
        "    def __init__(self, x):\r\n",
        "        self.x = x\r\n",
        "    def __getstate__(self):\r\n",
        "        import cloudpickle\r\n",
        "        return cloudpickle.dumps(self.x)\r\n",
        "    def __setstate__(self, ob):\r\n",
        "        import pickle\r\n",
        "        self.x = pickle.loads(ob)\r\n",
        "\r\n",
        "class SubprocVecEnv(VecEnv):\r\n",
        "    def __init__(self, env_fns, spaces=None):\r\n",
        "        \"\"\"\r\n",
        "        envs: list of gym environments to run in subprocesses\r\n",
        "        \"\"\"\r\n",
        "        self.waiting = False\r\n",
        "        self.closed = False\r\n",
        "        nenvs = len(env_fns)\r\n",
        "        self.nenvs = nenvs\r\n",
        "        self.remotes, self.work_remotes = zip(*[Pipe() for _ in range(nenvs)])\r\n",
        "        self.ps = [Process(target=worker, args=(work_remote, remote, CloudpickleWrapper(env_fn)))\r\n",
        "            for (work_remote, remote, env_fn) in zip(self.work_remotes, self.remotes, env_fns)]\r\n",
        "        for p in self.ps:\r\n",
        "            p.daemon = True # if the main process crashes, we should not cause things to hang\r\n",
        "            p.start()\r\n",
        "        for remote in self.work_remotes:\r\n",
        "            remote.close()\r\n",
        "\r\n",
        "        self.remotes[0].send(('get_spaces', None))\r\n",
        "        observation_space, action_space = self.remotes[0].recv()\r\n",
        "        VecEnv.__init__(self, len(env_fns), observation_space, action_space)\r\n",
        "\r\n",
        "    def step_async(self, actions):\r\n",
        "        for remote, action in zip(self.remotes, actions):\r\n",
        "            remote.send(('step', action))\r\n",
        "        self.waiting = True\r\n",
        "\r\n",
        "    def step_wait(self):\r\n",
        "        results = [remote.recv() for remote in self.remotes]\r\n",
        "        self.waiting = False\r\n",
        "        obs, rews, dones, infos = zip(*results)\r\n",
        "        return np.stack(obs), np.stack(rews), np.stack(dones), infos\r\n",
        "\r\n",
        "    def reset(self):\r\n",
        "        for remote in self.remotes:\r\n",
        "            remote.send(('reset', None))\r\n",
        "        return np.stack([remote.recv() for remote in self.remotes])\r\n",
        "\r\n",
        "    def reset_task(self):\r\n",
        "        for remote in self.remotes:\r\n",
        "            remote.send(('reset_task', None))\r\n",
        "        return np.stack([remote.recv() for remote in self.remotes])\r\n",
        "\r\n",
        "    def close(self):\r\n",
        "        if self.closed:\r\n",
        "            return\r\n",
        "        if self.waiting:\r\n",
        "            for remote in self.remotes:            \r\n",
        "                remote.recv()\r\n",
        "        for remote in self.remotes:\r\n",
        "            remote.send(('close', None))\r\n",
        "        for p in self.ps:\r\n",
        "            p.join()\r\n",
        "            self.closed = True\r\n",
        "            \r\n",
        "    def __len__(self):\r\n",
        "        return self.nenvs"
      ],
      "execution_count": null,
      "outputs": []
    },
    {
      "cell_type": "markdown",
      "metadata": {
        "id": "Sq80dQpVaS0E"
      },
      "source": [
        "Defining auxiliary functions and class to be used in the MiniPacman environment. "
      ]
    },
    {
      "cell_type": "code",
      "metadata": {
        "id": "1PxygxhOkgaM"
      },
      "source": [
        "#This code is written by @sracaniere from DeepMind\r\n",
        "#https://github.com/sracaniere\r\n",
        "\r\n",
        "import numpy as np\r\n",
        "import math\r\n",
        "\r\n",
        "STANDARD_MAP = np.array([\r\n",
        "    [1, 1, 1, 1, 1, 1, 1, 1, 1, 1, 1, 1, 1, 1, 1, 1, 1, 1, 1],\r\n",
        "    [1, 0, 0, 0, 1, 0, 0, 0, 0, 0, 0, 0, 0, 0, 1, 0, 0, 0, 1],\r\n",
        "    [1, 0, 1, 0, 1, 0, 1, 1, 1, 1, 1, 1, 1, 0, 1, 0, 1, 0, 1],\r\n",
        "    [1, 0, 0, 0, 0, 0, 0, 0, 0, 0, 0, 0, 0, 0, 0, 0, 0, 0, 1],\r\n",
        "    [1, 0, 1, 0, 1, 0, 1, 1, 1, 1, 1, 1, 1, 0, 1, 0, 1, 0, 1],\r\n",
        "    [1, 0, 1, 0, 0, 0, 0, 0, 0, 0, 0, 0, 0, 0, 0, 0, 1, 0, 1],\r\n",
        "    [1, 0, 1, 1, 1, 1, 0, 1, 1, 1, 1, 1, 0, 1, 1, 1, 1, 0, 1],\r\n",
        "    [1, 0, 0, 0, 0, 0, 0, 1, 1, 1, 1, 1, 0, 0, 0, 0, 0, 0, 1],\r\n",
        "    [1, 0, 1, 1, 1, 1, 0, 1, 1, 1, 1, 1, 0, 1, 1, 1, 1, 0, 1],\r\n",
        "    [1, 0, 1, 0, 0, 0, 0, 0, 0, 0, 0, 0, 0, 0, 0, 0, 1, 0, 1],\r\n",
        "    [1, 0, 1, 0, 1, 0, 1, 1, 1, 1, 1, 1, 1, 0, 1, 0, 1, 0, 1],\r\n",
        "    [1, 0, 0, 0, 0, 0, 0, 0, 0, 0, 0, 0, 0, 0, 0, 0, 0, 0, 1],\r\n",
        "    [1, 0, 1, 0, 1, 0, 1, 1, 1, 1, 1, 1, 1, 0, 1, 0, 1, 0, 1],\r\n",
        "    [1, 0, 0, 0, 1, 0, 0, 0, 0, 0, 0, 0, 0, 0, 1, 0, 0, 0, 1],\r\n",
        "    [1, 1, 1, 1, 1, 1, 1, 1, 1, 1, 1, 1, 1, 1, 1, 1, 1, 1, 1]])\r\n",
        "\r\n",
        "\r\n",
        "def get_random_position(map_array):\r\n",
        "  \"\"\"Gets a random available position in a binary map array.\r\n",
        "  Args:\r\n",
        "    map_array: numpy array of the map to search an available position on.\r\n",
        "  Returns:\r\n",
        "    The chosen random position.\r\n",
        "  Raises:\r\n",
        "    ValueError: if there is no available space in the map.\r\n",
        "  \"\"\"\r\n",
        "  if map_array.sum() <= 0:\r\n",
        "    raise ValueError(\"There is no available space in the map.\")\r\n",
        "  map_dims = len(map_array.shape)\r\n",
        "  pos = np.zeros(map_dims, dtype=np.int32)\r\n",
        "  while True:\r\n",
        "    result = map_array\r\n",
        "    for i in range(map_dims):\r\n",
        "      pos[i] = np.random.randint(map_array.shape[i])\r\n",
        "      result = result[pos[i]]\r\n",
        "    if result == 0:\r\n",
        "      break\r\n",
        "  return pos\r\n",
        "\r\n",
        "\r\n",
        "def update_2d_pos(array_map, pos, action, pos_result):\r\n",
        "  posv = array_map[pos[0]][pos[1]][action - 1]\r\n",
        "  pos_result[0] = posv[0]\r\n",
        "  pos_result[1] = posv[1]\r\n",
        "  return pos_result\r\n",
        "\r\n",
        "\r\n",
        "def parse_map(map_array):\r\n",
        "  \"\"\"Parses a map when there are actions: stay, right, up, left, down.\r\n",
        "  Args:\r\n",
        "    map_array: 2D numpy array that contains the map.\r\n",
        "  Returns:\r\n",
        "    A 3D numpy array (height, width, actions) that contains the resulting state\r\n",
        "    for a given position + action, and a 2D numpy array (height, width) with the\r\n",
        "    walls of the map.\r\n",
        "  Raises:\r\n",
        "    ValueError: if the map does not contain only zeros and ones.\r\n",
        "  \"\"\"\r\n",
        "  act_def = [[0, 0], [0, 1], [-1, 0], [0, -1], [1, 0]]\r\n",
        "  walls = np.zeros_like(map_array)\r\n",
        "  new_map_array = []\r\n",
        "  for i in range(map_array.shape[0]):\r\n",
        "    new_map_array.append([])\r\n",
        "    for j in range(map_array.shape[1]):\r\n",
        "      new_map_array[i].append([])\r\n",
        "      if map_array[i, j] == 0:\r\n",
        "        for k in range(len(act_def)):\r\n",
        "          new_map_array[i][j].append([i + act_def[k][0], j + act_def[k][1]])\r\n",
        "      elif map_array[i, j] == 1:\r\n",
        "        for k in range(len(act_def)):\r\n",
        "          new_map_array[i][j].append([i, j])\r\n",
        "        walls[i, j] = 1\r\n",
        "      else:\r\n",
        "        raise ValueError(\"Option not understood, %d\" % map_array[i, j])\r\n",
        "      for k in range(len(new_map_array[i][j])):\r\n",
        "        if map_array[new_map_array[i][j][k][0]][new_map_array[i][j][k][1]] == 1:\r\n",
        "          new_map_array[i][j][k][0] = i\r\n",
        "          new_map_array[i][j][k][1] = j\r\n",
        "  return np.array(new_map_array), walls\r\n",
        "\r\n",
        "\r\n",
        "def observation_as_rgb(obs):\r\n",
        "  \"\"\"Reduces the 6 channels of `obs` to 3 RGB.\r\n",
        "  Args:\r\n",
        "    obs: the observation as a numpy array.\r\n",
        "  Returns:\r\n",
        "    An RGB image in the form of a numpy array, with values between 0 and 1.\r\n",
        "  \"\"\"\r\n",
        "  height = obs.shape[0]\r\n",
        "  width = obs.shape[1]\r\n",
        "  rgb = np.zeros((height, width, 3), dtype=np.float32)\r\n",
        "  for x in range(height):\r\n",
        "    for y in range(width):\r\n",
        "      if obs[x, y, PillEater.PILLMAN] == 1:\r\n",
        "        rgb[x, y] = [0, 1, 0]\r\n",
        "      elif obs[x, y, PillEater.GHOSTS] > 0. or obs[x, y, PillEater.GHOSTS_EDIBLE] > 0.:\r\n",
        "        g = obs[x, y, PillEater.GHOSTS]\r\n",
        "        ge = obs[x, y, PillEater.GHOSTS_EDIBLE]\r\n",
        "        rgb[x, y] = [g + ge, ge, 0]\r\n",
        "      elif obs[x, y, PillEater.PILL] == 1:\r\n",
        "        rgb[x, y] = [0, 1, 1]\r\n",
        "      elif obs[x, y, PillEater.FOOD] == 1:\r\n",
        "        rgb[x, y] = [0, 0, 1]\r\n",
        "      elif obs[x, y, PillEater.WALLS] == 1:\r\n",
        "        rgb[x, y] = [1, 1, 1]\r\n",
        "  return rgb\r\n",
        "\r\n",
        "\r\n",
        "class PillEater(object):\r\n",
        "\r\n",
        "  WALLS = 0\r\n",
        "  FOOD = 1\r\n",
        "  PILLMAN = 2\r\n",
        "  GHOSTS = 3\r\n",
        "  GHOSTS_EDIBLE = 4\r\n",
        "  PILL = 5\r\n",
        "  NUM_ACTIONS = 5\r\n",
        "  MODES = ('regular', 'avoid', 'hunt', 'ambush', 'rush')\r\n",
        "\r\n",
        "  def __init__(self, mode, frame_cap=3000):\r\n",
        "    assert mode in PillEater.MODES\r\n",
        "    self.nghosts_init = 1\r\n",
        "    self.ghost_speed_init = 0.5\r\n",
        "    self.ghost_speed = self.ghost_speed_init\r\n",
        "    self.ghost_speed_increase = 0.1\r\n",
        "    self.end_on_collect = False\r\n",
        "    self.npills = 2\r\n",
        "    self.pill_duration = 20\r\n",
        "    self.seed = 123\r\n",
        "    self.discount = 1\r\n",
        "    self.stochasticity = 0.05\r\n",
        "    self.obs_is_rgb = True\r\n",
        "    self.frame_cap = frame_cap\r\n",
        "    self.safe_distance = 5\r\n",
        "    map_array = STANDARD_MAP\r\n",
        "    self.map, self.walls = parse_map(map_array)\r\n",
        "    self.map = np.array(self.map)\r\n",
        "    self.nactions = self.map.shape[2]\r\n",
        "    self.height = self.map.shape[0]\r\n",
        "    self.width = self.map.shape[1]\r\n",
        "    self.reverse_dir = (4, 5, 2, 3)\r\n",
        "    self.dir_vec = np.array([[0, 1], [-1, 0], [0, -1], [1, 0]])\r\n",
        "    self.world_state = dict(\r\n",
        "        pillman=self._make_pillman(),\r\n",
        "        ghosts=[],\r\n",
        "        food=np.zeros(shape=(self.height, self.width), dtype=np.float32),\r\n",
        "        pills=[None] * self.npills,\r\n",
        "        power=0\r\n",
        "    )\r\n",
        "    self.nplanes = 6\r\n",
        "    self.image = np.zeros(\r\n",
        "        shape=(self.height, self.width, self.nplanes), dtype=np.float32)\r\n",
        "    self.color_image = np.zeros(shape=(3, self.height, self.width),\r\n",
        "                                dtype=np.float32)\r\n",
        "    self.frame = 0\r\n",
        "    self.reward = 0.\r\n",
        "    self.pcontinue = 1.\r\n",
        "    self._init_level(1)\r\n",
        "    self._make_image()\r\n",
        "    self.mode = mode\r\n",
        "    self.timer = 0\r\n",
        "    if self.mode == 'regular':\r\n",
        "      self.step_reward = 0\r\n",
        "      self.food_reward = 1\r\n",
        "      self.big_pill_reward = 2\r\n",
        "      self.ghost_hunt_reward = 5\r\n",
        "      self.ghost_death_reward = 0\r\n",
        "      self.all_pill_terminate = False\r\n",
        "      self.all_ghosts_terminate = False\r\n",
        "      self.all_food_terminate = True\r\n",
        "      self.timer_terminate = -1\r\n",
        "    elif self.mode == 'avoid':\r\n",
        "      self.step_reward = 0.1\r\n",
        "      self.food_reward = -0.1\r\n",
        "      self.big_pill_reward = -5\r\n",
        "      self.ghost_hunt_reward = -10\r\n",
        "      self.ghost_death_reward = -20\r\n",
        "      self.all_pill_terminate = False\r\n",
        "      self.all_ghosts_terminate = False\r\n",
        "      self.all_food_terminate = True\r\n",
        "      self.timer_terminate = 128\r\n",
        "    elif self.mode == 'hunt':\r\n",
        "      self.step_reward = 0\r\n",
        "      self.food_reward = 0\r\n",
        "      self.big_pill_reward = 1\r\n",
        "      self.ghost_hunt_reward = 10\r\n",
        "      self.ghost_death_reward = -20\r\n",
        "      self.all_pill_terminate = False\r\n",
        "      self.all_ghosts_terminate = True\r\n",
        "      self.all_food_terminate = False\r\n",
        "      self.timer_terminate = -1\r\n",
        "    elif self.mode == 'ambush':\r\n",
        "      self.step_reward = 0\r\n",
        "      self.food_reward = -0.1\r\n",
        "      self.big_pill_reward = 0\r\n",
        "      self.ghost_hunt_reward = 10\r\n",
        "      self.ghost_death_reward = -20\r\n",
        "      self.all_pill_terminate = False\r\n",
        "      self.all_ghosts_terminate = True\r\n",
        "      self.all_food_terminate = False\r\n",
        "      self.timer_terminate = -1\r\n",
        "    elif self.mode == 'rush':\r\n",
        "      self.step_reward = 0\r\n",
        "      self.food_reward = -0.1\r\n",
        "      self.big_pill_reward = 10\r\n",
        "      self.ghost_hunt_reward = 0\r\n",
        "      self.ghost_death_reward = 0\r\n",
        "      self.all_pill_terminate = True\r\n",
        "      self.all_ghosts_terminate = False\r\n",
        "      self.all_food_terminate = False\r\n",
        "      self.timer_terminate = -1\r\n",
        "\r\n",
        "  def _make_pillman(self):\r\n",
        "    return self._make_actor(0)\r\n",
        "\r\n",
        "  def _make_enemy(self):\r\n",
        "    return self._make_actor(self.safe_distance)\r\n",
        "\r\n",
        "  def _make_actor(self, safe_distance):\r\n",
        "    \"\"\"Creates an actor.\r\n",
        "    An actor is a `ConfigDict` with a positions `pos` and a direction `dir`.\r\n",
        "    The position is an array with two elements, the height and width. The\r\n",
        "    direction is an integer representing the direction faced by the actor.\r\n",
        "    Args:\r\n",
        "      safe_distance: a `float`. The minimum distance from Pillman.\r\n",
        "    Returns:\r\n",
        "      A `ConfigDict`.\r\n",
        "    \"\"\"\r\n",
        "    actor = {}\r\n",
        "    if safe_distance > 0:\r\n",
        "      occupied_map = np.copy(self.walls)\r\n",
        "\r\n",
        "      from_ = (self.world_state['pillman']['pos'] - np.array(\r\n",
        "          [self.safe_distance, self.safe_distance]))\r\n",
        "      to = (self.world_state['pillman']['pos'] + np.array(\r\n",
        "          [self.safe_distance, self.safe_distance]))\r\n",
        "      from_[0] = max(from_[0], 1)\r\n",
        "      from_[1] = max(from_[1], 1)\r\n",
        "      to[0] = min(to[0], occupied_map.shape[0])\r\n",
        "      to[1] = min(to[1], occupied_map.shape[1])\r\n",
        "\r\n",
        "      occupied_map[from_[0]:to[0], from_[1]:to[1]] = 1\r\n",
        "\r\n",
        "      actor['pos'] = get_random_position(occupied_map)\r\n",
        "      actor['dir'] = np.random.randint(4)\r\n",
        "    else:\r\n",
        "      actor['pos'] = get_random_position(self.walls)\r\n",
        "      actor['dir'] = np.random.randint(4)\r\n",
        "\r\n",
        "    return actor\r\n",
        "\r\n",
        "  def _make_pill(self):\r\n",
        "    pill = dict(\r\n",
        "        pos=get_random_position(self.walls)\r\n",
        "    )\r\n",
        "    return pill\r\n",
        "\r\n",
        "  def _init_level(self, level):\r\n",
        "    \"\"\"Initialises the level.\"\"\"\r\n",
        "    self.level = level\r\n",
        "    self._fill_food(self.walls, self.world_state['food'])\r\n",
        "    self.world_state['pills'] = [self._make_pill() for _ in range(self.npills)]\r\n",
        "    self.world_state['pillman']['pos'] = get_random_position(self.walls)\r\n",
        "\r\n",
        "    self.nghosts = int(self.nghosts_init + math.floor((level - 1) / 2))\r\n",
        "    self.world_state['ghosts'] = [self._make_enemy() for _ in range(self.nghosts)]\r\n",
        "    self.world_state['power'] = 0\r\n",
        "\r\n",
        "    self.ghost_speed = (\r\n",
        "        self.ghost_speed_init + self.ghost_speed_increase * (level - 1))\r\n",
        "    self.timer = 0\r\n",
        "\r\n",
        "  def _fill_food(self, walls, food):\r\n",
        "    food.fill(-1)\r\n",
        "    food *= walls\r\n",
        "    food += 1\r\n",
        "    self.nfood = food.sum()\r\n",
        "\r\n",
        "  def _get_food(self, posx, posy):\r\n",
        "    self.reward += self.food_reward\r\n",
        "    self.world_state['food'][posx][posy] = 0\r\n",
        "    self.nfood -= 1\r\n",
        "    if self.nfood == 0 and self.all_food_terminate:\r\n",
        "      self._init_level(self.level + 1)\r\n",
        "\r\n",
        "  def _get_pill(self, pill_index):\r\n",
        "    self.world_state['pills'].pop(pill_index)\r\n",
        "    self.reward += self.big_pill_reward\r\n",
        "    self.world_state['power'] = self.pill_duration\r\n",
        "    if (not self.world_state['pills']) and self.all_pill_terminate:\r\n",
        "      self._init_level(self.level + 1)\r\n",
        "\r\n",
        "  def _kill_ghost(self, ghost_index):\r\n",
        "    self.world_state['ghosts'].pop(ghost_index)\r\n",
        "    self.reward += self.ghost_hunt_reward\r\n",
        "    if (not self.world_state['ghosts']) and self.all_ghosts_terminate:\r\n",
        "      self._init_level(self.level + 1)\r\n",
        "\r\n",
        "  def _die_by_ghost(self):\r\n",
        "    self.reward += self.ghost_death_reward\r\n",
        "    self.pcontinue = 0\r\n",
        "\r\n",
        "  def _move_pillman(self, action):\r\n",
        "    \"\"\"Moves Pillman following the action in the proto `action_proto`.\"\"\"\r\n",
        "    action += 1  # our code is 1 based\r\n",
        "    pos = self.world_state['pillman']['pos']\r\n",
        "    pillman = self.world_state['pillman']\r\n",
        "    update_2d_pos(self.map, pos, action, pos)\r\n",
        "    if self.world_state['food'][pos[0]][pos[1]] == 1:\r\n",
        "      self._get_food(pos[0], pos[1])\r\n",
        "    for i, pill in enumerate(self.world_state['pills']):\r\n",
        "      pos = pill['pos']\r\n",
        "      if pos[0] == pillman['pos'][0] and pos[1] == pillman['pos'][1]:\r\n",
        "        self._get_pill(i)\r\n",
        "        break\r\n",
        "\r\n",
        "  def _move_ghost(self, ghost):\r\n",
        "    \"\"\"Moves the given ghost.\"\"\"\r\n",
        "    pos = ghost['pos']\r\n",
        "    new_pos = np.zeros(shape=(2,), dtype=np.float32)\r\n",
        "    pillman = self.world_state['pillman']\r\n",
        "    available = []\r\n",
        "    for i in range(2, self.nactions + 1):\r\n",
        "      update_2d_pos(self.map, pos, i, new_pos)\r\n",
        "      if pos[0] != new_pos[0] or pos[1] != new_pos[1]:\r\n",
        "        available.append(i)\r\n",
        "    n_available = len(available)\r\n",
        "    if n_available == 1:\r\n",
        "      ghost['dir'] = available[0]\r\n",
        "    elif n_available == 2:\r\n",
        "      if ghost['dir'] not in available:\r\n",
        "        if self.reverse_dir[ghost['dir'] - 2] == available[0]:\r\n",
        "          ghost['dir'] = available[1]\r\n",
        "        else:\r\n",
        "          ghost['dir'] = available[0]\r\n",
        "    else:\r\n",
        "      rev_dir = self.reverse_dir[ghost['dir'] - 2]\r\n",
        "      for i in range(n_available):\r\n",
        "        if available[i] == rev_dir:\r\n",
        "          available.pop(i)\r\n",
        "          n_available -= 1\r\n",
        "          break\r\n",
        "      prods = np.zeros(n_available, dtype=np.float32)\r\n",
        "      x = np.array(\r\n",
        "          [pillman['pos'][0] - pos[0], pillman['pos'][1] - pos[1]], dtype=np.float32)\r\n",
        "      norm = np.linalg.norm(x)\r\n",
        "      if norm > 0:\r\n",
        "        x *= 1. / norm\r\n",
        "        for i in range(n_available):\r\n",
        "          prods[i] = np.dot(x, self.dir_vec[available[i] - 2])\r\n",
        "        if self.world_state['power'] == 0:\r\n",
        "          if self.stochasticity > np.random.uniform():\r\n",
        "            j = np.random.randint(n_available)\r\n",
        "          else:\r\n",
        "            # move towards pillman:\r\n",
        "            j = np.argmax(prods)\r\n",
        "        else:\r\n",
        "          # run away from pillman:\r\n",
        "          j = np.argmin(prods)\r\n",
        "        ghost['dir'] = available[j]\r\n",
        "    update_2d_pos(self.map, pos, ghost['dir'], pos)\r\n",
        "\r\n",
        "  def _make_image(self):\r\n",
        "    \"\"\"Represents world in a `height x width x 6` `Tensor`.\"\"\"\r\n",
        "    self.image.fill(0)\r\n",
        "    self.image[:, :, PillEater.WALLS] = self.walls\r\n",
        "    self.image[:, :, PillEater.FOOD] = self.world_state['food']\r\n",
        "    self.image[self.world_state['pillman']['pos'][0], self.world_state['pillman']['pos'][1],\r\n",
        "               PillEater.PILLMAN] = 1\r\n",
        "    for ghost in self.world_state['ghosts']:\r\n",
        "      edibility = self.world_state['power'] / float(self.pill_duration)\r\n",
        "      self.image[ghost['pos'][0], ghost['pos'][1], PillEater.GHOSTS] = 1. - edibility\r\n",
        "      self.image[ghost['pos'][0], ghost['pos'][1], PillEater.GHOSTS_EDIBLE] = edibility\r\n",
        "    for pill in self.world_state['pills']:\r\n",
        "      self.image[pill['pos'][0], pill['pos'][1], PillEater.PILL] = 1\r\n",
        "    return self.image\r\n",
        "\r\n",
        "  def start(self):\r\n",
        "    \"\"\"Starts a new episode.\"\"\"\r\n",
        "    self.frame = 0\r\n",
        "    self._init_level(1)\r\n",
        "    self.reward = 0\r\n",
        "    self.pcontinue = 1\r\n",
        "    self.ghost_speed = self.ghost_speed_init\r\n",
        "    return self._make_image(), self.reward, self.pcontinue\r\n",
        "\r\n",
        "  def step(self, action):\r\n",
        "    \"\"\"Advances environment one time-step following the given action.\"\"\"\r\n",
        "    self.frame += 1\r\n",
        "    pillman = self.world_state['pillman']\r\n",
        "    self.pcontinue = self.discount\r\n",
        "    self.reward = self.step_reward\r\n",
        "    self.timer += 1\r\n",
        "    # Update world state\r\n",
        "    self.world_state['power'] = max(0, self.world_state['power']-1)\r\n",
        "\r\n",
        "    # move pillman\r\n",
        "    self._move_pillman(action)\r\n",
        "\r\n",
        "    for i, ghost in enumerate(self.world_state['ghosts']):\r\n",
        "      # first check if pillman went onto a ghost\r\n",
        "      pos = ghost['pos']\r\n",
        "      if pos[0] == pillman['pos'][0] and pos[1] == pillman['pos'][1]:\r\n",
        "        if self.world_state['power'] == 0:\r\n",
        "          self._die_by_ghost()\r\n",
        "        else:\r\n",
        "          self._kill_ghost(i)\r\n",
        "          break\r\n",
        "      # Then move ghosts\r\n",
        "      speed = self.ghost_speed\r\n",
        "      if self.world_state['power'] != 0:\r\n",
        "        speed *= 0.5\r\n",
        "      if np.random.uniform() < speed:\r\n",
        "        self._move_ghost(ghost)\r\n",
        "        pos = ghost['pos']\r\n",
        "        # check if ghost went onto pillman\r\n",
        "        if pos[0] == pillman['pos'][0] and pos[1] == pillman['pos'][1]:\r\n",
        "          if self.world_state['power'] == 0:\r\n",
        "            self._die_by_ghost()\r\n",
        "          else:\r\n",
        "            self._kill_ghost(i)\r\n",
        "            # assume you can only eat one ghost per turn:\r\n",
        "            break\r\n",
        "    self._make_image()\r\n",
        "\r\n",
        "    # Check if level over\r\n",
        "    if self.timer == self.timer_terminate:\r\n",
        "      self._init_level(self.level + 1)\r\n",
        "\r\n",
        "    # Check if framecap reached\r\n",
        "    if self.frame_cap > 0 and self.frame >= self.frame_cap:\r\n",
        "      self.pcontinue = 0\r\n",
        "\r\n",
        "  def observation(self, agent_id=0):\r\n",
        "    return (self.reward,\r\n",
        "            self.pcontinue,\r\n",
        "            observation_as_rgb(self.image))"
      ],
      "execution_count": null,
      "outputs": []
    },
    {
      "cell_type": "markdown",
      "metadata": {
        "id": "MjmeAMo-ajKL"
      },
      "source": [
        "Defining a class for MiniPacman environment itself."
      ]
    },
    {
      "cell_type": "code",
      "metadata": {
        "id": "dipFXlz9kiHy"
      },
      "source": [
        "import gym\r\n",
        "from gym import spaces\r\n",
        "\r\n",
        "class MiniPacman:\r\n",
        "    def __init__(self, mode, frame_cap):\r\n",
        "        self.mode      = mode\r\n",
        "        self.frame_cap = frame_cap\r\n",
        "        \r\n",
        "        self.env = PillEater(mode=mode, frame_cap=frame_cap)\r\n",
        "        \r\n",
        "        self.action_space      = spaces.Discrete(5)\r\n",
        "        self.observation_space = spaces.Box(low=0, high=1.0, shape=(3, 15, 19))\r\n",
        "\r\n",
        "    def step(self, action):\r\n",
        "        self.env.step(action)\r\n",
        "        env_reward, env_pcontinue, env_frame = self.env.observation()\r\n",
        "        self.done = env_pcontinue != 1\r\n",
        "        env_frame = env_frame.transpose(2, 0, 1)\r\n",
        "        return env_frame, env_reward, self.done, {}\r\n",
        "\r\n",
        "    def reset(self):\r\n",
        "        image, _, _ = self.env.start()\r\n",
        "        image = observation_as_rgb(image)\r\n",
        "        self.done = False\r\n",
        "        image = image.transpose(2, 0, 1)\r\n",
        "        return image"
      ],
      "execution_count": null,
      "outputs": []
    },
    {
      "cell_type": "markdown",
      "metadata": {
        "id": "_z1IEBK0anzw"
      },
      "source": [
        "Defining an abstract class for A2C agent and concrete implementation of it. Also defining a class to store expirience for A2C updates."
      ]
    },
    {
      "cell_type": "code",
      "metadata": {
        "id": "x_7ZCvEAk0gx"
      },
      "source": [
        "import numpy as np\r\n",
        "import torch\r\n",
        "import torch.nn as nn\r\n",
        "import torch.optim as optim\r\n",
        "import torch.nn.functional as F\r\n",
        "from torch.autograd import Variable\r\n",
        "\r\n",
        "class OnPolicy(nn.Module):\r\n",
        "    def __init__(self):\r\n",
        "        super(OnPolicy, self).__init__()\r\n",
        "        \r\n",
        "    def forward(self, x):\r\n",
        "        raise NotImplementedError\r\n",
        "        \r\n",
        "    def act(self, x, deterministic=False):\r\n",
        "        logit, value = self.forward(x)\r\n",
        "        probs = F.softmax(logit)\r\n",
        "        \r\n",
        "        if deterministic:\r\n",
        "            action = probs.max(1)[1]\r\n",
        "        else:\r\n",
        "            action = probs.multinomial(1)\r\n",
        "        \r\n",
        "        return action\r\n",
        "    \r\n",
        "    def evaluate_actions(self, x, action):\r\n",
        "        logit, value = self.forward(x)\r\n",
        "        \r\n",
        "        probs     = F.softmax(logit)\r\n",
        "        log_probs = F.log_softmax(logit)\r\n",
        "        \r\n",
        "        action_log_probs = log_probs.gather(1, action)\r\n",
        "        entropy = -(probs * log_probs).sum(1).mean()\r\n",
        "        \r\n",
        "        return logit, action_log_probs, value, entropy\r\n",
        "    \r\n",
        "\r\n",
        "class ActorCritic(OnPolicy):\r\n",
        "    def __init__(self, in_shape, num_actions):\r\n",
        "        super(ActorCritic, self).__init__()\r\n",
        "        \r\n",
        "        self.in_shape = in_shape\r\n",
        "        \r\n",
        "        self.features = nn.Sequential(\r\n",
        "            nn.Conv2d(in_shape[0], 16, kernel_size=3, stride=1),\r\n",
        "            nn.ReLU(),\r\n",
        "            nn.Conv2d(16, 16, kernel_size=3, stride=2),\r\n",
        "            nn.ReLU(),\r\n",
        "        )\r\n",
        "        \r\n",
        "        self.fc = nn.Sequential(\r\n",
        "            nn.Linear(self.feature_size(), 256),\r\n",
        "            nn.ReLU(),\r\n",
        "        )\r\n",
        "        \r\n",
        "        self.critic  = nn.Linear(256, 1)\r\n",
        "        self.actor   = nn.Linear(256, num_actions)\r\n",
        "        \r\n",
        "    def forward(self, x):\r\n",
        "        x = self.features(x)\r\n",
        "        x = x.view(x.size(0), -1)\r\n",
        "        x = self.fc(x)\r\n",
        "        logit = self.actor(x)\r\n",
        "        value = self.critic(x)\r\n",
        "        return logit, value\r\n",
        "    \r\n",
        "    def feature_size(self):\r\n",
        "        return self.features(Variable(torch.zeros(1, *self.in_shape))).view(1, -1).size(1)\r\n",
        "    \r\n",
        "    \r\n",
        "class RolloutStorage(object):\r\n",
        "    def __init__(self, num_steps, num_envs, state_shape):\r\n",
        "        self.num_steps = num_steps\r\n",
        "        self.num_envs  = num_envs\r\n",
        "        self.states  = torch.zeros(num_steps + 1, num_envs, *state_shape)\r\n",
        "        self.rewards = torch.zeros(num_steps,     num_envs, 1)\r\n",
        "        self.masks   = torch.ones(num_steps  + 1, num_envs, 1)\r\n",
        "        self.actions = torch.zeros(num_steps,     num_envs, 1).long()\r\n",
        "        self.use_cuda = False\r\n",
        "            \r\n",
        "    def cuda(self):\r\n",
        "        self.use_cuda  = True\r\n",
        "        self.states    = self.states.cuda()\r\n",
        "        self.rewards   = self.rewards.cuda()\r\n",
        "        self.masks     = self.masks.cuda()\r\n",
        "        self.actions   = self.actions.cuda()\r\n",
        "        \r\n",
        "    def insert(self, step, state, action, reward, mask):\r\n",
        "        self.states[step + 1].copy_(state)\r\n",
        "        self.actions[step].copy_(action)\r\n",
        "        self.rewards[step].copy_(reward)\r\n",
        "        self.masks[step + 1].copy_(mask)\r\n",
        "        \r\n",
        "    def after_update(self):\r\n",
        "        self.states[0].copy_(self.states[-1])\r\n",
        "        self.masks[0].copy_(self.masks[-1])\r\n",
        "        \r\n",
        "    def compute_returns(self, next_value, gamma):\r\n",
        "        returns   = torch.zeros(self.num_steps + 1, self.num_envs, 1)\r\n",
        "        if self.use_cuda:\r\n",
        "            returns = returns.cuda()\r\n",
        "        returns[-1] = next_value\r\n",
        "        for step in reversed(range(self.num_steps)):\r\n",
        "            returns[step] = returns[step + 1] * gamma * self.masks[step + 1] + self.rewards[step]\r\n",
        "        return returns[:-1]"
      ],
      "execution_count": null,
      "outputs": []
    },
    {
      "cell_type": "markdown",
      "metadata": {
        "id": "GwgIJ4CHaj7z"
      },
      "source": [
        "# Model training\r\n",
        "\r\n",
        "Creating environments for training."
      ]
    },
    {
      "cell_type": "code",
      "metadata": {
        "id": "nrDPUUkYjlx3"
      },
      "source": [
        "mode = \"regular\"\r\n",
        "num_envs = 16\r\n",
        "\r\n",
        "def make_env():\r\n",
        "    def _thunk():\r\n",
        "        env = MiniPacman(mode, 1000)\r\n",
        "        return env\r\n",
        "\r\n",
        "    return _thunk\r\n",
        "\r\n",
        "envs = [make_env() for i in range(num_envs)]\r\n",
        "envs = SubprocVecEnv(envs)\r\n",
        "\r\n",
        "state_shape = envs.observation_space.shape\r\n",
        "num_actions = envs.action_space.n"
      ],
      "execution_count": null,
      "outputs": []
    },
    {
      "cell_type": "markdown",
      "metadata": {
        "id": "p4AEFqx8bEZz"
      },
      "source": [
        "Creating environment model and AC agent objects. In addition creating and optimizer and criterion for training."
      ]
    },
    {
      "cell_type": "code",
      "metadata": {
        "id": "_KXzGhGlkshe"
      },
      "source": [
        "env_model    = EnvModel(envs.observation_space.shape, num_pixels, len(mode_rewards[\"regular\"]))\r\n",
        "actor_critic = ActorCritic(envs.observation_space.shape, envs.action_space.n)\r\n",
        "\r\n",
        "criterion = nn.CrossEntropyLoss()\r\n",
        "optimizer = optim.Adam(env_model.parameters())\r\n",
        "\r\n",
        "if USE_CUDA:\r\n",
        "    env_model    = env_model.cuda()\r\n",
        "    actor_critic = actor_critic.cuda()"
      ],
      "execution_count": null,
      "outputs": []
    },
    {
      "cell_type": "markdown",
      "metadata": {
        "id": "cax_rxndbQ0j"
      },
      "source": [
        "Download trained and saved A2C agent from my GitHub to be used for environment model training."
      ]
    },
    {
      "cell_type": "code",
      "metadata": {
        "colab": {
          "base_uri": "https://localhost:8080/"
        },
        "id": "HXL0iTv69gbl",
        "outputId": "faaa1c80-56fb-4fae-9b21-676a3d451d5e"
      },
      "source": [
        "!wget https://raw.githubusercontent.com/kai-wren/DRL_Final_Project/main/Minipacman_A2C_20k/actor_critic_regular"
      ],
      "execution_count": null,
      "outputs": [
        {
          "output_type": "stream",
          "text": [
            "--2021-01-28 06:35:32--  https://raw.githubusercontent.com/kai-wren/DRL_Final_Project/main/Minipacman_A2C_20k/actor_critic_regular\n",
            "Resolving raw.githubusercontent.com (raw.githubusercontent.com)... 151.101.0.133, 151.101.64.133, 151.101.128.133, ...\n",
            "Connecting to raw.githubusercontent.com (raw.githubusercontent.com)|151.101.0.133|:443... connected.\n",
            "HTTP request sent, awaiting response... 200 OK\n",
            "Length: 808353 (789K) [application/octet-stream]\n",
            "Saving to: ‘actor_critic_regular’\n",
            "\n",
            "actor_critic_regula 100%[===================>] 789.41K  --.-KB/s    in 0.03s   \n",
            "\n",
            "2021-01-28 06:35:33 (22.5 MB/s) - ‘actor_critic_regular’ saved [808353/808353]\n",
            "\n"
          ],
          "name": "stdout"
        }
      ]
    },
    {
      "cell_type": "markdown",
      "metadata": {
        "id": "1wQfbQlncBe1"
      },
      "source": [
        "Loading weights of trained agent."
      ]
    },
    {
      "cell_type": "code",
      "metadata": {
        "colab": {
          "base_uri": "https://localhost:8080/"
        },
        "id": "BrEONdBXjlu4",
        "outputId": "dc1c7a31-e52e-46b3-d568-acdc4f89d7a4"
      },
      "source": [
        "actor_critic.load_state_dict(torch.load(\"actor_critic_\" + mode))"
      ],
      "execution_count": null,
      "outputs": [
        {
          "output_type": "execute_result",
          "data": {
            "text/plain": [
              "<All keys matched successfully>"
            ]
          },
          "metadata": {
            "tags": []
          },
          "execution_count": 33
        }
      ]
    },
    {
      "cell_type": "markdown",
      "metadata": {
        "id": "2O9fa0HzcG8h"
      },
      "source": [
        "Defining a reusable method to get an action from A2C agent."
      ]
    },
    {
      "cell_type": "code",
      "metadata": {
        "id": "XpU_-YcKjlsH"
      },
      "source": [
        "def get_action(state):\r\n",
        "    if state.ndim == 4:\r\n",
        "        state = torch.FloatTensor(np.float32(state))\r\n",
        "    else:\r\n",
        "        state = torch.FloatTensor(np.float32(state)).unsqueeze(0)\r\n",
        "\r\n",
        "    if USE_CUDA:\r\n",
        "        state = Variable(state, volatile=True).cuda()\r\n",
        "    else:\r\n",
        "        state = Variable(state, volatile=True)\r\n",
        "        \r\n",
        "    action = actor_critic.act(state)\r\n",
        "    action = action.data.cpu().squeeze(1).numpy()\r\n",
        "    return action"
      ],
      "execution_count": null,
      "outputs": []
    },
    {
      "cell_type": "markdown",
      "metadata": {
        "id": "siTFA0KrcOdh"
      },
      "source": [
        "Defining a reusable method to play a game for a fixed number of steps. "
      ]
    },
    {
      "cell_type": "code",
      "metadata": {
        "id": "873LICvOjlpO"
      },
      "source": [
        "def play_games(envs, frames):\r\n",
        "    states = envs.reset()\r\n",
        "    \r\n",
        "    for frame_idx in range(frames):\r\n",
        "        actions = get_action(states)\r\n",
        "        next_states, rewards, dones, _ = envs.step(actions)\r\n",
        "        \r\n",
        "        yield frame_idx, states, actions, rewards, next_states, dones\r\n",
        "        \r\n",
        "        states = next_states"
      ],
      "execution_count": null,
      "outputs": []
    },
    {
      "cell_type": "markdown",
      "metadata": {
        "id": "DXRnkxicc8_r"
      },
      "source": [
        "Perform environment model training for 5000 steps. Such amount of steps is enough to achieve low loss score and have environment model precisely predict futuere reward and state. After execution plot average loss chart to visualize training progress."
      ]
    },
    {
      "cell_type": "code",
      "metadata": {
        "colab": {
          "base_uri": "https://localhost:8080/",
          "height": 610
        },
        "id": "GhLbrRGkjlmH",
        "outputId": "70d989d0-fd1b-4cf3-d0c5-855515b271d3"
      },
      "source": [
        "reward_coef = 0.1\r\n",
        "num_updates = 5000\r\n",
        "\r\n",
        "losses = []\r\n",
        "all_rewards = []\r\n",
        "\r\n",
        "for frame_idx, states, actions, rewards, next_states, dones in play_games(envs, num_updates):\r\n",
        "    states      = torch.FloatTensor(states)\r\n",
        "    actions     = torch.LongTensor(actions)\r\n",
        "\r\n",
        "    batch_size = states.size(0)\r\n",
        "    \r\n",
        "    onehot_actions = torch.zeros(batch_size, num_actions, *state_shape[1:])\r\n",
        "    onehot_actions[range(batch_size), actions] = 1\r\n",
        "    inputs = Variable(torch.cat([states, onehot_actions], 1))\r\n",
        "    \r\n",
        "    if USE_CUDA:\r\n",
        "        inputs = inputs.cuda()\r\n",
        "\r\n",
        "    imagined_state, imagined_reward = env_model(inputs)\r\n",
        "\r\n",
        "    target_state = pix_to_target(next_states)\r\n",
        "    target_state = Variable(torch.LongTensor(target_state))\r\n",
        "\r\n",
        "    if USE_CUDA:\r\n",
        "        target_state = target_state.cuda()\r\n",
        "    \r\n",
        "    target_reward = rewards_to_target(mode, rewards)\r\n",
        "    target_reward = Variable(torch.LongTensor(target_reward))\r\n",
        "\r\n",
        "    if USE_CUDA:\r\n",
        "        target_reward = target_reward.cuda()\r\n",
        "\r\n",
        "    optimizer.zero_grad()\r\n",
        "    image_loss  = criterion(imagined_state, target_state)\r\n",
        "    reward_loss = criterion(imagined_reward, target_reward)\r\n",
        "    loss = image_loss + reward_coef * reward_loss\r\n",
        "    loss.backward()\r\n",
        "    optimizer.step()\r\n",
        "    \r\n",
        "    losses.append(loss.item())\r\n",
        "    all_rewards.append(np.mean(rewards))\r\n",
        "    \r\n",
        "    if frame_idx % 10 == 0:\r\n",
        "        plot(frame_idx, all_rewards, losses)"
      ],
      "execution_count": null,
      "outputs": [
        {
          "output_type": "display_data",
          "data": {
            "image/png": "[encoded data removed]",
            "text/plain": [
              "<Figure size 1440x720 with 1 Axes>"
            ]
          },
          "metadata": {
            "tags": []
          }
        }
      ]
    },
    {
      "cell_type": "markdown",
      "metadata": {
        "id": "qKWf3DJsdxkO"
      },
      "source": [
        "Save trained model into file to be able to load it later."
      ]
    },
    {
      "cell_type": "code",
      "metadata": {
        "id": "zzjs-1mWV11q"
      },
      "source": [
        "torch.save(env_model.state_dict(), \"env_model_\" + mode)"
      ],
      "execution_count": null,
      "outputs": []
    },
    {
      "cell_type": "markdown",
      "metadata": {
        "id": "FhB_E4Jsd0ei"
      },
      "source": [
        "# Test model"
      ]
    },
    {
      "cell_type": "markdown",
      "metadata": {
        "id": "M98xJXl_d1MJ"
      },
      "source": [
        "## Trained model\r\n",
        "\r\n",
        "Now testing trained model on MiniPacman environment and draw output on each step for visualization. On each step iimagined state and actual state are shown side by side. \r\n",
        "\r\n",
        "Reseting seaborn style to have better images of game environment."
      ]
    },
    {
      "cell_type": "code",
      "metadata": {
        "id": "-RmCScOwBc85"
      },
      "source": [
        "sns.reset_defaults()"
      ],
      "execution_count": null,
      "outputs": []
    },
    {
      "cell_type": "markdown",
      "metadata": {
        "id": "vTu_bHLpeE2G"
      },
      "source": [
        "Testing trained model and drawing a game each step for limited number of steps."
      ]
    },
    {
      "cell_type": "code",
      "metadata": {
        "colab": {
          "base_uri": "https://localhost:8080/",
          "height": 263
        },
        "id": "WCa5DEYGsWfo",
        "outputId": "749a6b08-b7ab-44ca-b2c4-f991d1267ce6"
      },
      "source": [
        "import time\r\n",
        "\r\n",
        "env = MiniPacman(mode, 1000)\r\n",
        "batch_size = 1\r\n",
        "\r\n",
        "done = False\r\n",
        "state = env.reset()\r\n",
        "iss = []\r\n",
        "ss  = []\r\n",
        "\r\n",
        "steps = 0\r\n",
        "\r\n",
        "while not done:\r\n",
        "    steps += 1\r\n",
        "    actions = get_action(state)\r\n",
        "    onehot_actions = torch.zeros(batch_size, num_actions, *state_shape[1:])\r\n",
        "    onehot_actions[range(batch_size), actions] = 1\r\n",
        "    state = torch.FloatTensor(state).unsqueeze(0)\r\n",
        "    \r\n",
        "    inputs = Variable(torch.cat([state, onehot_actions], 1))\r\n",
        "    if USE_CUDA:\r\n",
        "        inputs = inputs.cuda()\r\n",
        "\r\n",
        "    imagined_state, imagined_reward = env_model(inputs)\r\n",
        "    imagined_state = F.softmax(imagined_state)\r\n",
        "    iss.append(imagined_state)\r\n",
        "    \r\n",
        "    next_state, reward, done, _ = env.step(actions[0])\r\n",
        "    ss.append(state)\r\n",
        "    state = next_state\r\n",
        "    \r\n",
        "    imagined_image = target_to_pix(imagined_state.view(batch_size, -1, len(pixels))[0].max(1)[1].data.cpu().numpy())\r\n",
        "    imagined_image = imagined_image.reshape(15, 19, 3)\r\n",
        "    state_image = torch.FloatTensor(next_state).permute(1, 2, 0).cpu().numpy()\r\n",
        "    \r\n",
        "    clear_output(True)\r\n",
        "    plt.figure(figsize=(10,3))\r\n",
        "    plt.subplot(131)\r\n",
        "    plt.title(\"Imagined\")\r\n",
        "    plt.imshow(imagined_image)\r\n",
        "    plt.subplot(132)\r\n",
        "    plt.title(\"Actual\")\r\n",
        "    plt.imshow(state_image)\r\n",
        "    plt.show()\r\n",
        "    time.sleep(0.3)\r\n",
        "    \r\n",
        "    if steps > 30:\r\n",
        "        break"
      ],
      "execution_count": null,
      "outputs": [
        {
          "output_type": "display_data",
          "data": {
            "image/png": "[encoded data removed]",
            "text/plain": [
              "<Figure size 1000x300 with 2 Axes>"
            ]
          },
          "metadata": {
            "tags": []
          }
        }
      ]
    },
    {
      "cell_type": "markdown",
      "metadata": {
        "id": "ccNXc8avrsYu"
      },
      "source": [
        "## Saved model\r\n",
        "\r\n",
        "Download model trained by me from GitHub if training need to be skipped."
      ]
    },
    {
      "cell_type": "code",
      "metadata": {
        "colab": {
          "base_uri": "https://localhost:8080/"
        },
        "id": "GVyHL1_esWdI",
        "outputId": "b9728564-46c4-405a-d566-c573be839318"
      },
      "source": [
        "!wget https://raw.githubusercontent.com/kai-wren/DRL_Final_Project/main/Minipacman_EnvMod_5k/env_model_regular"
      ],
      "execution_count": null,
      "outputs": [
        {
          "output_type": "stream",
          "text": [
            "--2021-01-28 06:30:25--  https://raw.githubusercontent.com/kai-wren/DRL_Final_Project/main/Minipacman_EnvMod_5k/env_model_regular\n",
            "Resolving raw.githubusercontent.com (raw.githubusercontent.com)... 151.101.0.133, 151.101.64.133, 151.101.128.133, ...\n",
            "Connecting to raw.githubusercontent.com (raw.githubusercontent.com)|151.101.0.133|:443... connected.\n",
            "HTTP request sent, awaiting response... 200 OK\n",
            "Length: 1392973 (1.3M) [application/octet-stream]\n",
            "Saving to: ‘env_model_regular’\n",
            "\n",
            "env_model_regular   100%[===================>]   1.33M  --.-KB/s    in 0.05s   \n",
            "\n",
            "2021-01-28 06:30:25 (25.9 MB/s) - ‘env_model_regular’ saved [1392973/1392973]\n",
            "\n"
          ],
          "name": "stdout"
        }
      ]
    },
    {
      "cell_type": "markdown",
      "metadata": {
        "id": "NXXDRE9LeTN1"
      },
      "source": [
        "Creating environemnt, agent, environemnt model and load saved weights."
      ]
    },
    {
      "cell_type": "code",
      "metadata": {
        "id": "yahcZza1suhP"
      },
      "source": [
        "mode = \"regular\"\r\n",
        "env = MiniPacman(mode, 1000)\r\n",
        "\r\n",
        "env_model_loaded    = EnvModel(env.observation_space.shape, num_pixels, len(mode_rewards[\"regular\"]))\r\n",
        "actor_critic_loaded = ActorCritic(env.observation_space.shape, env.action_space.n)\r\n",
        "\r\n",
        "env_model_loaded.load_state_dict(torch.load(\"env_model_\" + mode))\r\n",
        "actor_critic_loaded.load_state_dict(torch.load(\"actor_critic_\" + mode))\r\n",
        "\r\n",
        "if USE_CUDA:\r\n",
        "    env_model_loaded    = env_model_loaded.cuda()\r\n",
        "    actor_critic_loaded = actor_critic_loaded.cuda()"
      ],
      "execution_count": null,
      "outputs": []
    },
    {
      "cell_type": "markdown",
      "metadata": {
        "id": "YQnIBlnZeZpz"
      },
      "source": [
        "Adapt one of the reusable methods to work with loaded A2C agent."
      ]
    },
    {
      "cell_type": "code",
      "metadata": {
        "id": "E2_15WaUtZi0"
      },
      "source": [
        "def get_action_loaded(state):\r\n",
        "    if state.ndim == 4:\r\n",
        "        state = torch.FloatTensor(np.float32(state))\r\n",
        "    else:\r\n",
        "        state = torch.FloatTensor(np.float32(state)).unsqueeze(0)\r\n",
        "\r\n",
        "    if USE_CUDA:\r\n",
        "        state = Variable(state, volatile=True).cuda()\r\n",
        "    else:\r\n",
        "        state = Variable(state, volatile=True)\r\n",
        "        \r\n",
        "    action = actor_critic_loaded.act(state)\r\n",
        "    action = action.data.cpu().squeeze(1).numpy()\r\n",
        "    return action"
      ],
      "execution_count": null,
      "outputs": []
    },
    {
      "cell_type": "markdown",
      "metadata": {
        "id": "HwaP-0H2euXk"
      },
      "source": [
        "Testing loaded model and drawing a game each step for limited number of steps. As before, imagined state and actual state displayed side by side."
      ]
    },
    {
      "cell_type": "code",
      "metadata": {
        "colab": {
          "base_uri": "https://localhost:8080/",
          "height": 263
        },
        "id": "UmVugVdBsp0T",
        "outputId": "f8ee1d50-ef7d-406b-ccc1-100d402f2086"
      },
      "source": [
        "import time\r\n",
        "\r\n",
        "batch_size = 1\r\n",
        "num_actions = env.action_space.n\r\n",
        "state_shape = env.observation_space.shape\r\n",
        "\r\n",
        "done = False\r\n",
        "state = env.reset()\r\n",
        "iss = []\r\n",
        "ss  = []\r\n",
        "\r\n",
        "steps = 0\r\n",
        "\r\n",
        "while not done:\r\n",
        "    steps += 1\r\n",
        "    actions = get_action_loaded(state)\r\n",
        "    onehot_actions = torch.zeros(batch_size, num_actions, *state_shape[1:])\r\n",
        "    onehot_actions[range(batch_size), actions] = 1\r\n",
        "    state = torch.FloatTensor(state).unsqueeze(0)\r\n",
        "    \r\n",
        "    inputs = Variable(torch.cat([state, onehot_actions], 1))\r\n",
        "    if USE_CUDA:\r\n",
        "        inputs = inputs.cuda()\r\n",
        "\r\n",
        "    imagined_state, imagined_reward = env_model_loaded(inputs)\r\n",
        "    imagined_state = F.softmax(imagined_state)\r\n",
        "    iss.append(imagined_state)\r\n",
        "    \r\n",
        "    next_state, reward, done, _ = env.step(actions[0])\r\n",
        "    ss.append(state)\r\n",
        "    state = next_state\r\n",
        "    \r\n",
        "    imagined_image = target_to_pix(imagined_state.view(batch_size, -1, len(pixels))[0].max(1)[1].data.cpu().numpy())\r\n",
        "    imagined_image = imagined_image.reshape(15, 19, 3)\r\n",
        "    state_image = torch.FloatTensor(next_state).permute(1, 2, 0).cpu().numpy()\r\n",
        "    \r\n",
        "    clear_output(True)\r\n",
        "    plt.figure(figsize=(10,3))\r\n",
        "    plt.subplot(131)\r\n",
        "    plt.title(\"Imagined\")\r\n",
        "    plt.imshow(imagined_image)\r\n",
        "    plt.subplot(132)\r\n",
        "    plt.title(\"Actual\")\r\n",
        "    plt.imshow(state_image)\r\n",
        "    plt.show()\r\n",
        "    time.sleep(0.3)\r\n",
        "    \r\n",
        "    if steps > 30:\r\n",
        "        break"
      ],
      "execution_count": null,
      "outputs": [
        {
          "output_type": "display_data",
          "data": {
            "image/png": "[encoded data removed]",
            "text/plain": [
              "<Figure size 1000x300 with 2 Axes>"
            ]
          },
          "metadata": {
            "tags": []
          }
        }
      ]
    }
  ]
}